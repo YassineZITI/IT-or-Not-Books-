{
  "nbformat": 4,
  "nbformat_minor": 0,
  "metadata": {
    "colab": {
      "name": "itbookstore collection.ipynb",
      "provenance": [],
      "collapsed_sections": [],
      "toc_visible": true,
      "authorship_tag": "ABX9TyMMvt4EdTTthxxFFHcz0qp5",
      "include_colab_link": true
    },
    "kernelspec": {
      "name": "python3",
      "display_name": "Python 3"
    },
    "language_info": {
      "name": "python"
    }
  },
  "cells": [
    {
      "cell_type": "markdown",
      "metadata": {
        "id": "view-in-github",
        "colab_type": "text"
      },
      "source": [
        "<a href=\"https://colab.research.google.com/github/YassineZITI/IT-or-Not-Books-/blob/main/itbookstore_collection.ipynb\" target=\"_parent\"><img src=\"https://colab.research.google.com/assets/colab-badge.svg\" alt=\"Open In Colab\"/></a>"
      ]
    },
    {
      "cell_type": "markdown",
      "source": [
        "# Introduction"
      ],
      "metadata": {
        "id": "iFaHxf7MCSZu"
      }
    },
    {
      "cell_type": "markdown",
      "source": [
        "\n",
        "\n",
        "<h2>IT or Not Classification</h2>\n",
        "<p>In a previous project i built a website where you can look for data science books, and in that website you can upload books.<p/>\n",
        "<p>So to help me verify that the user will upload only it books i have to build this classifier.</p>\n",
        "<p>So in this series of notebooks we will try to build this classifier using NLP .</p>\n",
        "\n",
        "\n"
      ],
      "metadata": {
        "id": "4KFfAZXAGzlu"
      }
    },
    {
      "cell_type": "markdown",
      "source": [
        "# Data Collection\n",
        "\n",
        "we will use itbook.store website and its free api to collect the data"
      ],
      "metadata": {
        "id": "3YPaGPhXMl-X"
      }
    },
    {
      "cell_type": "code",
      "source": [
        "from bs4 import BeautifulSoup"
      ],
      "metadata": {
        "id": "IbO4e6dzD6F2"
      },
      "execution_count": null,
      "outputs": []
    },
    {
      "cell_type": "code",
      "execution_count": null,
      "metadata": {
        "id": "l-pL30uhzgHR"
      },
      "outputs": [],
      "source": [
        "import requests\n",
        "import re\n",
        "import warnings\n",
        "warnings.filterwarnings('ignore')"
      ]
    },
    {
      "cell_type": "code",
      "source": [
        "#i will only scrape the books related to Data Science \n",
        "categories = ['Database','TensorFlow','Neural Networks','Hadoop',\n",
        "              'NumPy','Visualization','Machine Learning',\n",
        "              'Analytics','Apache','Big Data','Scala','Microsoft']"
      ],
      "metadata": {
        "id": "ogJkrVYAE5MV"
      },
      "execution_count": null,
      "outputs": []
    },
    {
      "cell_type": "code",
      "source": [
        "len(categories)"
      ],
      "metadata": {
        "colab": {
          "base_uri": "https://localhost:8080/"
        },
        "id": "aUezdJc6CmK2",
        "outputId": "91314f7a-f7cb-4333-e610-cf347250f5d9"
      },
      "execution_count": null,
      "outputs": [
        {
          "output_type": "execute_result",
          "data": {
            "text/plain": [
              "12"
            ]
          },
          "metadata": {},
          "execution_count": 4
        }
      ]
    },
    {
      "cell_type": "code",
      "execution_count": null,
      "metadata": {
        "id": "K4_9ePjtzkrn"
      },
      "outputs": [],
      "source": [
        "#get books from each category  \n",
        "def get_total(category):\n",
        "  url = 'https://api.itbook.store/1.0/search/{}'.format(category)\n",
        "  total = int(requests.get(url).json()['total'])\n",
        "  return total\n",
        "def get_data_category(category,page):\n",
        "  data = []\n",
        "  url = 'https://api.itbook.store/1.0/search/{}/{}'.format(category,page)\n",
        "  data.extend(requests.get(url).json()['books'])\n",
        "  for i in range(len(data)):\n",
        "    data[i]['category'] = category\n",
        "  return data\n",
        "def get_complete_data_category(category):\n",
        "  data = []\n",
        "  pages = min(120,get_total(category)//10)\n",
        "  for page in range(pages):\n",
        "      data.extend(get_data_category(category,page))\n",
        "  for i in range(len(data)):\n",
        "    url = data[i]['url']\n",
        "    response = requests.get(url)\n",
        "    meta = requests.get('https://api.itbook.store/1.0/books/'+ data[i]['isbn13']).json()\n",
        "    #author\n",
        "    data[i]['authors'] = meta['authors']\n",
        "    #publisher\n",
        "    data[i]['publisher'] = meta['publisher']\n",
        "    #published\n",
        "    data[i]['year'] = meta['year']\n",
        "    #description\n",
        "    soup = BeautifulSoup(response.content,'html.parser')\n",
        "    desc = soup.find('div',itemprop='description').text\n",
        "    desc = re.sub('\\n|\\r',' ',desc)\n",
        "    data[i]['description'] = desc\n",
        "    #download link\n",
        "    try:\n",
        "      down_link = soup.find('a' ,title='Free Download')['href']\n",
        "    except:\n",
        "      down_link = ''\n",
        "    data[i]['downlink'] = down_link\n",
        "    #buy link\n",
        "    buy_link = 'https://itbook.store/go/buy/' + data[i]['isbn13']\n",
        "    data[i]['buylink'] = buy_link\n",
        "    #pages\n",
        "    data[i]['pages'] = meta['pages']\n",
        "    #rating\n",
        "    data[i]['rating'] = int(meta['rating'])\n",
        "  return data\n",
        "  \n",
        "\n",
        "def data_collection():\n",
        "  data = []\n",
        "  for category in categories :\n",
        "    data.extend(get_complete_data_category(category))\n",
        "  \n",
        "  \n",
        "  return data"
      ]
    },
    {
      "cell_type": "code",
      "source": [
        "data = data_collection()"
      ],
      "metadata": {
        "id": "JT8WK2yNxQ4t"
      },
      "execution_count": null,
      "outputs": []
    },
    {
      "cell_type": "code",
      "source": [
        "len(data)"
      ],
      "metadata": {
        "colab": {
          "base_uri": "https://localhost:8080/"
        },
        "id": "m7gVW2oPc9h3",
        "outputId": "e349016a-bbf9-4796-f096-24fdb9efb5c1"
      },
      "execution_count": null,
      "outputs": [
        {
          "output_type": "execute_result",
          "data": {
            "text/plain": [
              "5830"
            ]
          },
          "metadata": {},
          "execution_count": 7
        }
      ]
    },
    {
      "cell_type": "code",
      "source": [
        "#create a data frame\n",
        "import pandas as pd\n",
        "df = pd.DataFrame(data)"
      ],
      "metadata": {
        "id": "AttqQvYRQ_jl"
      },
      "execution_count": null,
      "outputs": []
    },
    {
      "cell_type": "code",
      "source": [
        "data = df.drop_duplicates(subset=['isbn13']).to_dict('records')"
      ],
      "metadata": {
        "id": "tRvMbtTg_bUb"
      },
      "execution_count": null,
      "outputs": []
    },
    {
      "cell_type": "code",
      "source": [
        "len(data)"
      ],
      "metadata": {
        "colab": {
          "base_uri": "https://localhost:8080/"
        },
        "id": "Fyp1qfZ8BCED",
        "outputId": "602bd7d6-070c-4da7-e59c-8ff398ab75ca"
      },
      "execution_count": null,
      "outputs": [
        {
          "output_type": "execute_result",
          "data": {
            "text/plain": [
              "3411"
            ]
          },
          "metadata": {},
          "execution_count": 19
        }
      ]
    },
    {
      "cell_type": "code",
      "source": [
        "counts = {c:0 for c in categories}\n",
        "for book in data:\n",
        "  counts[book['category']]+=1\n",
        "counts"
      ],
      "metadata": {
        "colab": {
          "base_uri": "https://localhost:8080/"
        },
        "id": "AxklP0GiXFlw",
        "outputId": "eb1687d5-b472-46bb-e902-9ab919e8ca57"
      },
      "execution_count": null,
      "outputs": [
        {
          "output_type": "execute_result",
          "data": {
            "text/plain": [
              "{'Analytics': 90,\n",
              " 'Apache': 66,\n",
              " 'Big Data': 314,\n",
              " 'Database': 790,\n",
              " 'Hadoop': 56,\n",
              " 'Machine Learning': 686,\n",
              " 'Microsoft': 597,\n",
              " 'Neural Networks': 268,\n",
              " 'NumPy': 23,\n",
              " 'Scala': 260,\n",
              " 'TensorFlow': 70,\n",
              " 'Visualization': 191}"
            ]
          },
          "metadata": {},
          "execution_count": 18
        }
      ]
    },
    {
      "cell_type": "markdown",
      "source": [
        "# Save Data\n"
      ],
      "metadata": {
        "id": "DGPrBfcLE0cF"
      }
    },
    {
      "cell_type": "code",
      "source": [
        "import warnings\n",
        "warnings.filterwarnings(\"ignore\")"
      ],
      "metadata": {
        "id": "hHY9wo_1Mk4o"
      },
      "execution_count": null,
      "outputs": []
    },
    {
      "cell_type": "code",
      "source": [
        "from google.colab import drive\n",
        "drive.mount('/content/drive')"
      ],
      "metadata": {
        "colab": {
          "base_uri": "https://localhost:8080/"
        },
        "id": "PkX-5LlmaHVB",
        "outputId": "86d440c3-32f2-4a62-838d-63892eeb4ede"
      },
      "execution_count": null,
      "outputs": [
        {
          "output_type": "stream",
          "name": "stdout",
          "text": [
            "Drive already mounted at /content/drive; to attempt to forcibly remount, call drive.mount(\"/content/drive\", force_remount=True).\n"
          ]
        }
      ]
    },
    {
      "cell_type": "code",
      "source": [
        "df = df[['title','description']]"
      ],
      "metadata": {
        "id": "YTNOMN0Bc7Mw"
      },
      "execution_count": null,
      "outputs": []
    },
    {
      "cell_type": "code",
      "source": [
        "df.loc[:,'category'] = 'IT'"
      ],
      "metadata": {
        "id": "zFnjcdCZdL3J"
      },
      "execution_count": null,
      "outputs": []
    },
    {
      "cell_type": "code",
      "source": [
        "df.head()"
      ],
      "metadata": {
        "colab": {
          "base_uri": "https://localhost:8080/",
          "height": 206
        },
        "id": "4vcyNBlSXJwB",
        "outputId": "a83dc194-2b1a-4d8f-d9c3-30670eb3c49f"
      },
      "execution_count": null,
      "outputs": [
        {
          "output_type": "execute_result",
          "data": {
            "text/plain": [
              "                                               title  \\\n",
              "0   Expert Oracle Database Architecture, 2nd Edition   \n",
              "1             Expert Indexing in Oracle Database 11g   \n",
              "2                       Databases for Small Business   \n",
              "3  Next Generation Databases: NoSQL, NewSQL, and ...   \n",
              "4  Practical PHP 7, MySQL 8, and MariaDB Website ...   \n",
              "\n",
              "                                         description category  \n",
              "0   Now in its second edition, this best-selling ...       IT  \n",
              "1   Expert Indexing in Oracle Database 11g is abo...       IT  \n",
              "2   This book covers the practical aspects of dat...       IT  \n",
              "3   This is a book for enterprise architects, dat...       IT  \n",
              "4   Build interactive, database-driven websites w...       IT  "
            ],
            "text/html": [
              "\n",
              "  <div id=\"df-e6bcfa12-2dea-4516-93c2-0fb35209279c\">\n",
              "    <div class=\"colab-df-container\">\n",
              "      <div>\n",
              "<style scoped>\n",
              "    .dataframe tbody tr th:only-of-type {\n",
              "        vertical-align: middle;\n",
              "    }\n",
              "\n",
              "    .dataframe tbody tr th {\n",
              "        vertical-align: top;\n",
              "    }\n",
              "\n",
              "    .dataframe thead th {\n",
              "        text-align: right;\n",
              "    }\n",
              "</style>\n",
              "<table border=\"1\" class=\"dataframe\">\n",
              "  <thead>\n",
              "    <tr style=\"text-align: right;\">\n",
              "      <th></th>\n",
              "      <th>title</th>\n",
              "      <th>description</th>\n",
              "      <th>category</th>\n",
              "    </tr>\n",
              "  </thead>\n",
              "  <tbody>\n",
              "    <tr>\n",
              "      <th>0</th>\n",
              "      <td>Expert Oracle Database Architecture, 2nd Edition</td>\n",
              "      <td>Now in its second edition, this best-selling ...</td>\n",
              "      <td>IT</td>\n",
              "    </tr>\n",
              "    <tr>\n",
              "      <th>1</th>\n",
              "      <td>Expert Indexing in Oracle Database 11g</td>\n",
              "      <td>Expert Indexing in Oracle Database 11g is abo...</td>\n",
              "      <td>IT</td>\n",
              "    </tr>\n",
              "    <tr>\n",
              "      <th>2</th>\n",
              "      <td>Databases for Small Business</td>\n",
              "      <td>This book covers the practical aspects of dat...</td>\n",
              "      <td>IT</td>\n",
              "    </tr>\n",
              "    <tr>\n",
              "      <th>3</th>\n",
              "      <td>Next Generation Databases: NoSQL, NewSQL, and ...</td>\n",
              "      <td>This is a book for enterprise architects, dat...</td>\n",
              "      <td>IT</td>\n",
              "    </tr>\n",
              "    <tr>\n",
              "      <th>4</th>\n",
              "      <td>Practical PHP 7, MySQL 8, and MariaDB Website ...</td>\n",
              "      <td>Build interactive, database-driven websites w...</td>\n",
              "      <td>IT</td>\n",
              "    </tr>\n",
              "  </tbody>\n",
              "</table>\n",
              "</div>\n",
              "      <button class=\"colab-df-convert\" onclick=\"convertToInteractive('df-e6bcfa12-2dea-4516-93c2-0fb35209279c')\"\n",
              "              title=\"Convert this dataframe to an interactive table.\"\n",
              "              style=\"display:none;\">\n",
              "        \n",
              "  <svg xmlns=\"http://www.w3.org/2000/svg\" height=\"24px\"viewBox=\"0 0 24 24\"\n",
              "       width=\"24px\">\n",
              "    <path d=\"M0 0h24v24H0V0z\" fill=\"none\"/>\n",
              "    <path d=\"M18.56 5.44l.94 2.06.94-2.06 2.06-.94-2.06-.94-.94-2.06-.94 2.06-2.06.94zm-11 1L8.5 8.5l.94-2.06 2.06-.94-2.06-.94L8.5 2.5l-.94 2.06-2.06.94zm10 10l.94 2.06.94-2.06 2.06-.94-2.06-.94-.94-2.06-.94 2.06-2.06.94z\"/><path d=\"M17.41 7.96l-1.37-1.37c-.4-.4-.92-.59-1.43-.59-.52 0-1.04.2-1.43.59L10.3 9.45l-7.72 7.72c-.78.78-.78 2.05 0 2.83L4 21.41c.39.39.9.59 1.41.59.51 0 1.02-.2 1.41-.59l7.78-7.78 2.81-2.81c.8-.78.8-2.07 0-2.86zM5.41 20L4 18.59l7.72-7.72 1.47 1.35L5.41 20z\"/>\n",
              "  </svg>\n",
              "      </button>\n",
              "      \n",
              "  <style>\n",
              "    .colab-df-container {\n",
              "      display:flex;\n",
              "      flex-wrap:wrap;\n",
              "      gap: 12px;\n",
              "    }\n",
              "\n",
              "    .colab-df-convert {\n",
              "      background-color: #E8F0FE;\n",
              "      border: none;\n",
              "      border-radius: 50%;\n",
              "      cursor: pointer;\n",
              "      display: none;\n",
              "      fill: #1967D2;\n",
              "      height: 32px;\n",
              "      padding: 0 0 0 0;\n",
              "      width: 32px;\n",
              "    }\n",
              "\n",
              "    .colab-df-convert:hover {\n",
              "      background-color: #E2EBFA;\n",
              "      box-shadow: 0px 1px 2px rgba(60, 64, 67, 0.3), 0px 1px 3px 1px rgba(60, 64, 67, 0.15);\n",
              "      fill: #174EA6;\n",
              "    }\n",
              "\n",
              "    [theme=dark] .colab-df-convert {\n",
              "      background-color: #3B4455;\n",
              "      fill: #D2E3FC;\n",
              "    }\n",
              "\n",
              "    [theme=dark] .colab-df-convert:hover {\n",
              "      background-color: #434B5C;\n",
              "      box-shadow: 0px 1px 3px 1px rgba(0, 0, 0, 0.15);\n",
              "      filter: drop-shadow(0px 1px 2px rgba(0, 0, 0, 0.3));\n",
              "      fill: #FFFFFF;\n",
              "    }\n",
              "  </style>\n",
              "\n",
              "      <script>\n",
              "        const buttonEl =\n",
              "          document.querySelector('#df-e6bcfa12-2dea-4516-93c2-0fb35209279c button.colab-df-convert');\n",
              "        buttonEl.style.display =\n",
              "          google.colab.kernel.accessAllowed ? 'block' : 'none';\n",
              "\n",
              "        async function convertToInteractive(key) {\n",
              "          const element = document.querySelector('#df-e6bcfa12-2dea-4516-93c2-0fb35209279c');\n",
              "          const dataTable =\n",
              "            await google.colab.kernel.invokeFunction('convertToInteractive',\n",
              "                                                     [key], {});\n",
              "          if (!dataTable) return;\n",
              "\n",
              "          const docLinkHtml = 'Like what you see? Visit the ' +\n",
              "            '<a target=\"_blank\" href=https://colab.research.google.com/notebooks/data_table.ipynb>data table notebook</a>'\n",
              "            + ' to learn more about interactive tables.';\n",
              "          element.innerHTML = '';\n",
              "          dataTable['output_type'] = 'display_data';\n",
              "          await google.colab.output.renderOutput(dataTable, element);\n",
              "          const docLink = document.createElement('div');\n",
              "          docLink.innerHTML = docLinkHtml;\n",
              "          element.appendChild(docLink);\n",
              "        }\n",
              "      </script>\n",
              "    </div>\n",
              "  </div>\n",
              "  "
            ]
          },
          "metadata": {},
          "execution_count": 39
        }
      ]
    },
    {
      "cell_type": "code",
      "source": [
        "import pickle\n",
        "with open('/content/drive/My Drive/IT.txt', 'wb') as f:\n",
        "    pickle.dump( df,f)"
      ],
      "metadata": {
        "id": "k3u9j6r6TJnW"
      },
      "execution_count": null,
      "outputs": []
    },
    {
      "cell_type": "code",
      "source": [
        ""
      ],
      "metadata": {
        "id": "LNil4GziM_Qc"
      },
      "execution_count": null,
      "outputs": []
    }
  ]
}