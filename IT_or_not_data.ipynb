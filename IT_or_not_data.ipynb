{
  "nbformat": 4,
  "nbformat_minor": 0,
  "metadata": {
    "colab": {
      "name": "IT or not data.ipynb",
      "provenance": [],
      "authorship_tag": "ABX9TyOt81OHSU46hJ+MbdiBrodT",
      "include_colab_link": true
    },
    "kernelspec": {
      "name": "python3",
      "display_name": "Python 3"
    },
    "language_info": {
      "name": "python"
    }
  },
  "cells": [
    {
      "cell_type": "markdown",
      "metadata": {
        "id": "view-in-github",
        "colab_type": "text"
      },
      "source": [
        "<a href=\"https://colab.research.google.com/github/YassineZITI/IT-or-Not-Books-/blob/main/IT_or_not_data.ipynb\" target=\"_parent\"><img src=\"https://colab.research.google.com/assets/colab-badge.svg\" alt=\"Open In Colab\"/></a>"
      ]
    },
    {
      "cell_type": "code",
      "execution_count": null,
      "metadata": {
        "id": "d_xf7h8RWZe8"
      },
      "outputs": [],
      "source": [
        "import seaborn as sns\n",
        "import matplotlib.pyplot as plt\n",
        "%matplotlib inline"
      ]
    },
    {
      "cell_type": "code",
      "execution_count": null,
      "metadata": {
        "id": "sALwCRG_XRUq"
      },
      "outputs": [],
      "source": [
        "import warnings\n",
        "warnings.filterwarnings('ignore')"
      ]
    },
    {
      "cell_type": "code",
      "execution_count": null,
      "metadata": {
        "colab": {
          "base_uri": "https://localhost:8080/"
        },
        "id": "87WMA82uz1Su",
        "outputId": "f89c4254-e95a-42df-9ab1-e45b6c35f3ff"
      },
      "outputs": [
        {
          "output_type": "stream",
          "name": "stdout",
          "text": [
            "Mounted at /content/drive\n"
          ]
        }
      ],
      "source": [
        "from google.colab import drive\n",
        "drive.mount('/content/drive', force_remount=True)"
      ]
    },
    {
      "cell_type": "code",
      "execution_count": null,
      "metadata": {
        "colab": {
          "base_uri": "https://localhost:8080/"
        },
        "id": "1H0qIFpRugpT",
        "outputId": "6fc65fb1-5d9d-4034-eb72-e3b4dae973fb"
      },
      "outputs": [
        {
          "output_type": "stream",
          "name": "stdout",
          "text": [
            "--2022-07-01 23:45:59--  https://raw.githubusercontent.com/scostap/goodreads_bbe_dataset/main/Best_Books_Ever_dataset/books_1.Best_Books_Ever.csv\n",
            "Resolving raw.githubusercontent.com (raw.githubusercontent.com)... 185.199.108.133, 185.199.110.133, 185.199.109.133, ...\n",
            "Connecting to raw.githubusercontent.com (raw.githubusercontent.com)|185.199.108.133|:443... connected.\n",
            "HTTP request sent, awaiting response... 200 OK\n",
            "Length: 73839808 (70M) [text/plain]\n",
            "Saving to: ‘books_1.Best_Books_Ever.csv’\n",
            "\n",
            "books_1.Best_Books_ 100%[===================>]  70.42M   209MB/s    in 0.3s    \n",
            "\n",
            "2022-07-01 23:46:00 (209 MB/s) - ‘books_1.Best_Books_Ever.csv’ saved [73839808/73839808]\n",
            "\n"
          ]
        }
      ],
      "source": [
        "#we need good reads data to use it as not it books\n",
        "#we wanna build a model that classify books to it or not books based on their descriptions\n",
        "!wget https://raw.githubusercontent.com/scostap/goodreads_bbe_dataset/main/Best_Books_Ever_dataset/books_1.Best_Books_Ever.csv"
      ]
    },
    {
      "cell_type": "code",
      "execution_count": null,
      "metadata": {
        "id": "qeaJCNEmvcF0"
      },
      "outputs": [],
      "source": [
        "import pandas as pd\n",
        "goodreads_df = pd.read_csv('/content/books_1.Best_Books_Ever.csv')\n"
      ]
    },
    {
      "cell_type": "code",
      "execution_count": null,
      "metadata": {
        "colab": {
          "base_uri": "https://localhost:8080/"
        },
        "id": "x-jT5Cx1vuct",
        "outputId": "3735452a-9262-4ce5-aa0b-c5ab60f1852e"
      },
      "outputs": [
        {
          "output_type": "stream",
          "name": "stdout",
          "text": [
            "<class 'pandas.core.frame.DataFrame'>\n",
            "RangeIndex: 52478 entries, 0 to 52477\n",
            "Data columns (total 25 columns):\n",
            " #   Column            Non-Null Count  Dtype  \n",
            "---  ------            --------------  -----  \n",
            " 0   bookId            52478 non-null  object \n",
            " 1   title             52478 non-null  object \n",
            " 2   series            23470 non-null  object \n",
            " 3   author            52478 non-null  object \n",
            " 4   rating            52478 non-null  float64\n",
            " 5   description       51140 non-null  object \n",
            " 6   language          48672 non-null  object \n",
            " 7   isbn              52478 non-null  object \n",
            " 8   genres            52478 non-null  object \n",
            " 9   characters        52478 non-null  object \n",
            " 10  bookFormat        51005 non-null  object \n",
            " 11  edition           4955 non-null   object \n",
            " 12  pages             50131 non-null  object \n",
            " 13  publisher         48782 non-null  object \n",
            " 14  publishDate       51598 non-null  object \n",
            " 15  firstPublishDate  31152 non-null  object \n",
            " 16  awards            52478 non-null  object \n",
            " 17  numRatings        52478 non-null  int64  \n",
            " 18  ratingsByStars    52478 non-null  object \n",
            " 19  likedPercent      51856 non-null  float64\n",
            " 20  setting           52478 non-null  object \n",
            " 21  coverImg          51873 non-null  object \n",
            " 22  bbeScore          52478 non-null  int64  \n",
            " 23  bbeVotes          52478 non-null  int64  \n",
            " 24  price             38113 non-null  object \n",
            "dtypes: float64(2), int64(3), object(20)\n",
            "memory usage: 10.0+ MB\n"
          ]
        }
      ],
      "source": [
        "goodreads_df.info()"
      ]
    },
    {
      "cell_type": "code",
      "execution_count": null,
      "metadata": {
        "colab": {
          "base_uri": "https://localhost:8080/"
        },
        "id": "tmYs-4MAxbso",
        "outputId": "f877d355-ed62-47a3-d29c-f27fd96a015b"
      },
      "outputs": [
        {
          "output_type": "execute_result",
          "data": {
            "text/plain": [
              "array([\"['Young Adult', 'Fiction', 'Dystopia', 'Fantasy', 'Science Fiction', 'Romance', 'Adventure', 'Teen', 'Post Apocalyptic', 'Action']\",\n",
              "       \"['Fantasy', 'Young Adult', 'Fiction', 'Magic', 'Childrens', 'Adventure', 'Audiobook', 'Middle Grade', 'Classics', 'Science Fiction Fantasy']\",\n",
              "       \"['Classics', 'Fiction', 'Historical Fiction', 'School', 'Literature', 'Young Adult', 'Historical', 'Novels', 'Read For School', 'High School']\",\n",
              "       ...,\n",
              "       \"['Fantasy', 'Young Adult', 'Paranormal', 'Angels', 'Romance', 'Demons', 'Supernatural', 'Paranormal Romance', 'Urban Fantasy', 'Fiction']\",\n",
              "       \"['Fiction', 'Mystery', 'Historical Fiction', 'Adventure', 'Christian Fiction', 'Historical', 'Religion', 'Suspense', 'Christian', 'Archaeology']\",\n",
              "       \"['Lds Fiction', 'Historical Fiction', 'Young Adult', 'Fiction', 'Fantasy', 'Lds', 'Historical', 'Romance', 'Adventure', 'Teen']\"],\n",
              "      dtype=object)"
            ]
          },
          "metadata": {},
          "execution_count": 7
        }
      ],
      "source": [
        "goodreads_df['genres'].values"
      ]
    },
    {
      "cell_type": "code",
      "source": [
        "df = goodreads_df[['title','language','description','genres']]\n",
        "df.info()"
      ],
      "metadata": {
        "colab": {
          "base_uri": "https://localhost:8080/"
        },
        "id": "m3F9ppdJXGNv",
        "outputId": "48aa5851-aeca-48fe-a203-cfff0508df64"
      },
      "execution_count": null,
      "outputs": [
        {
          "output_type": "stream",
          "name": "stdout",
          "text": [
            "<class 'pandas.core.frame.DataFrame'>\n",
            "RangeIndex: 52478 entries, 0 to 52477\n",
            "Data columns (total 4 columns):\n",
            " #   Column       Non-Null Count  Dtype \n",
            "---  ------       --------------  ----- \n",
            " 0   title        52478 non-null  object\n",
            " 1   language     48672 non-null  object\n",
            " 2   description  51140 non-null  object\n",
            " 3   genres       52478 non-null  object\n",
            "dtypes: object(4)\n",
            "memory usage: 1.6+ MB\n"
          ]
        }
      ]
    },
    {
      "cell_type": "code",
      "execution_count": null,
      "metadata": {
        "colab": {
          "base_uri": "https://localhost:8080/"
        },
        "id": "kq1Yew-F8Nh2",
        "outputId": "74e93555-1518-4dfc-a13c-1c0fc9240d01"
      },
      "outputs": [
        {
          "output_type": "execute_result",
          "data": {
            "text/plain": [
              "array(['English', 'French', 'German', 'Persian', 'Arabic', nan, 'Spanish',\n",
              "       'Multiple languages', 'Portuguese', 'Indonesian', 'Turkish',\n",
              "       'Polish', 'Bulgarian', 'Tamil', 'Japanese', 'Romanian', 'Italian',\n",
              "       'French, Middle (ca.1400-1600)', 'Norwegian', 'Urdu', 'Dutch',\n",
              "       'Finnish', 'Marathi', 'Chinese', 'Swedish', 'Icelandic',\n",
              "       'Malayalam', 'Croatian', 'Estonian', 'Greek, Modern (1453-)',\n",
              "       'Russian', 'Kurdish', 'Danish', 'Hindi', 'Filipino; Pilipino',\n",
              "       'Serbian', 'Bengali', 'Malay', 'Catalan; Valencian', 'Czech',\n",
              "       'Vietnamese', 'Armenian', 'Georgian', 'Kannada', 'Korean',\n",
              "       'Nepali', 'Slovak', 'Telugu', 'Hungarian',\n",
              "       'English, Middle (1100-1500)', 'Azerbaijani', 'Farsi',\n",
              "       'Lithuanian', 'Ukrainian', 'Bokmål, Norwegian; Norwegian Bokmål',\n",
              "       'Iranian (Other)', 'Faroese', 'Basque', 'Macedonian', 'Maltese',\n",
              "       'Gujarati', 'Amharic', 'Aromanian; Arumanian; Macedo-Romanian',\n",
              "       'Assamese', 'Panjabi; Punjabi', 'Albanian', 'Latvian', 'Bosnian',\n",
              "       'Afrikaans', 'Thai', 'Dutch, Middle (ca.1050-1350)', 'Mongolian',\n",
              "       'Tagalog', 'Galician', 'Aleut', 'Slovenian', 'Undetermined',\n",
              "       'Greek, Ancient (to 1453)', 'Mayan languages', 'Duala',\n",
              "       'Australian languages', 'Norwegian Nynorsk; Nynorsk, Norwegian'],\n",
              "      dtype=object)"
            ]
          },
          "metadata": {},
          "execution_count": 9
        }
      ],
      "source": [
        "df['language'].unique()"
      ]
    },
    {
      "cell_type": "code",
      "execution_count": null,
      "metadata": {
        "colab": {
          "base_uri": "https://localhost:8080/"
        },
        "id": "tKQH3qHxHo2D",
        "outputId": "5bd4cba5-8721-4aff-a68b-e24fc09180b4"
      },
      "outputs": [
        {
          "output_type": "execute_result",
          "data": {
            "text/plain": [
              "language\n",
              "English       42661\n",
              "Arabic         1038\n",
              "Spanish         687\n",
              "French          579\n",
              "German          528\n",
              "Indonesian      371\n",
              "Portuguese      363\n",
              "Italian         255\n",
              "Dutch           215\n",
              "Turkish         211\n",
              "dtype: int64"
            ]
          },
          "metadata": {},
          "execution_count": 10
        }
      ],
      "source": [
        "df.groupby(['language']).size().sort_values(ascending=False).head(10)"
      ]
    },
    {
      "cell_type": "code",
      "execution_count": null,
      "metadata": {
        "colab": {
          "base_uri": "https://localhost:8080/"
        },
        "id": "MNr9XDr8oqkH",
        "outputId": "f7201302-43ba-4dd1-bbd0-8387bdb5a447"
      },
      "outputs": [
        {
          "output_type": "stream",
          "name": "stdout",
          "text": [
            "<class 'pandas.core.frame.DataFrame'>\n",
            "Int64Index: 42661 entries, 0 to 52477\n",
            "Data columns (total 3 columns):\n",
            " #   Column       Non-Null Count  Dtype \n",
            "---  ------       --------------  ----- \n",
            " 0   title        42661 non-null  object\n",
            " 1   description  42151 non-null  object\n",
            " 2   genres       42661 non-null  object\n",
            "dtypes: object(3)\n",
            "memory usage: 1.3+ MB\n"
          ]
        }
      ],
      "source": [
        "#filter non english books\n",
        "df = df[df['language']=='English']\n",
        "df.drop(['language'],axis=1,inplace = True)\n",
        "df.info()"
      ]
    },
    {
      "cell_type": "code",
      "source": [
        "import pickle\n",
        "with open('/content/drive/My Drive/IT.txt', 'rb') as f:\n",
        "    it = pickle.load( f)\n"
      ],
      "metadata": {
        "id": "uU0GJ9mfcalL"
      },
      "execution_count": null,
      "outputs": []
    },
    {
      "cell_type": "code",
      "source": [
        "it.columns = ['title','description','genres']\n",
        "\n",
        "it.head()"
      ],
      "metadata": {
        "colab": {
          "base_uri": "https://localhost:8080/",
          "height": 206
        },
        "id": "Ai71AMM4c5hK",
        "outputId": "c0b9f85c-0aaa-4430-e152-2043f02796a0"
      },
      "execution_count": null,
      "outputs": [
        {
          "output_type": "execute_result",
          "data": {
            "text/plain": [
              "                                               title  \\\n",
              "0   Expert Oracle Database Architecture, 2nd Edition   \n",
              "1             Expert Indexing in Oracle Database 11g   \n",
              "2                       Databases for Small Business   \n",
              "3  Next Generation Databases: NoSQL, NewSQL, and ...   \n",
              "4  Practical PHP 7, MySQL 8, and MariaDB Website ...   \n",
              "\n",
              "                                         description genres  \n",
              "0   Now in its second edition, this best-selling ...     IT  \n",
              "1   Expert Indexing in Oracle Database 11g is abo...     IT  \n",
              "2   This book covers the practical aspects of dat...     IT  \n",
              "3   This is a book for enterprise architects, dat...     IT  \n",
              "4   Build interactive, database-driven websites w...     IT  "
            ],
            "text/html": [
              "\n",
              "  <div id=\"df-08e745fc-275f-4a67-a3f8-065ddac41037\">\n",
              "    <div class=\"colab-df-container\">\n",
              "      <div>\n",
              "<style scoped>\n",
              "    .dataframe tbody tr th:only-of-type {\n",
              "        vertical-align: middle;\n",
              "    }\n",
              "\n",
              "    .dataframe tbody tr th {\n",
              "        vertical-align: top;\n",
              "    }\n",
              "\n",
              "    .dataframe thead th {\n",
              "        text-align: right;\n",
              "    }\n",
              "</style>\n",
              "<table border=\"1\" class=\"dataframe\">\n",
              "  <thead>\n",
              "    <tr style=\"text-align: right;\">\n",
              "      <th></th>\n",
              "      <th>title</th>\n",
              "      <th>description</th>\n",
              "      <th>genres</th>\n",
              "    </tr>\n",
              "  </thead>\n",
              "  <tbody>\n",
              "    <tr>\n",
              "      <th>0</th>\n",
              "      <td>Expert Oracle Database Architecture, 2nd Edition</td>\n",
              "      <td>Now in its second edition, this best-selling ...</td>\n",
              "      <td>IT</td>\n",
              "    </tr>\n",
              "    <tr>\n",
              "      <th>1</th>\n",
              "      <td>Expert Indexing in Oracle Database 11g</td>\n",
              "      <td>Expert Indexing in Oracle Database 11g is abo...</td>\n",
              "      <td>IT</td>\n",
              "    </tr>\n",
              "    <tr>\n",
              "      <th>2</th>\n",
              "      <td>Databases for Small Business</td>\n",
              "      <td>This book covers the practical aspects of dat...</td>\n",
              "      <td>IT</td>\n",
              "    </tr>\n",
              "    <tr>\n",
              "      <th>3</th>\n",
              "      <td>Next Generation Databases: NoSQL, NewSQL, and ...</td>\n",
              "      <td>This is a book for enterprise architects, dat...</td>\n",
              "      <td>IT</td>\n",
              "    </tr>\n",
              "    <tr>\n",
              "      <th>4</th>\n",
              "      <td>Practical PHP 7, MySQL 8, and MariaDB Website ...</td>\n",
              "      <td>Build interactive, database-driven websites w...</td>\n",
              "      <td>IT</td>\n",
              "    </tr>\n",
              "  </tbody>\n",
              "</table>\n",
              "</div>\n",
              "      <button class=\"colab-df-convert\" onclick=\"convertToInteractive('df-08e745fc-275f-4a67-a3f8-065ddac41037')\"\n",
              "              title=\"Convert this dataframe to an interactive table.\"\n",
              "              style=\"display:none;\">\n",
              "        \n",
              "  <svg xmlns=\"http://www.w3.org/2000/svg\" height=\"24px\"viewBox=\"0 0 24 24\"\n",
              "       width=\"24px\">\n",
              "    <path d=\"M0 0h24v24H0V0z\" fill=\"none\"/>\n",
              "    <path d=\"M18.56 5.44l.94 2.06.94-2.06 2.06-.94-2.06-.94-.94-2.06-.94 2.06-2.06.94zm-11 1L8.5 8.5l.94-2.06 2.06-.94-2.06-.94L8.5 2.5l-.94 2.06-2.06.94zm10 10l.94 2.06.94-2.06 2.06-.94-2.06-.94-.94-2.06-.94 2.06-2.06.94z\"/><path d=\"M17.41 7.96l-1.37-1.37c-.4-.4-.92-.59-1.43-.59-.52 0-1.04.2-1.43.59L10.3 9.45l-7.72 7.72c-.78.78-.78 2.05 0 2.83L4 21.41c.39.39.9.59 1.41.59.51 0 1.02-.2 1.41-.59l7.78-7.78 2.81-2.81c.8-.78.8-2.07 0-2.86zM5.41 20L4 18.59l7.72-7.72 1.47 1.35L5.41 20z\"/>\n",
              "  </svg>\n",
              "      </button>\n",
              "      \n",
              "  <style>\n",
              "    .colab-df-container {\n",
              "      display:flex;\n",
              "      flex-wrap:wrap;\n",
              "      gap: 12px;\n",
              "    }\n",
              "\n",
              "    .colab-df-convert {\n",
              "      background-color: #E8F0FE;\n",
              "      border: none;\n",
              "      border-radius: 50%;\n",
              "      cursor: pointer;\n",
              "      display: none;\n",
              "      fill: #1967D2;\n",
              "      height: 32px;\n",
              "      padding: 0 0 0 0;\n",
              "      width: 32px;\n",
              "    }\n",
              "\n",
              "    .colab-df-convert:hover {\n",
              "      background-color: #E2EBFA;\n",
              "      box-shadow: 0px 1px 2px rgba(60, 64, 67, 0.3), 0px 1px 3px 1px rgba(60, 64, 67, 0.15);\n",
              "      fill: #174EA6;\n",
              "    }\n",
              "\n",
              "    [theme=dark] .colab-df-convert {\n",
              "      background-color: #3B4455;\n",
              "      fill: #D2E3FC;\n",
              "    }\n",
              "\n",
              "    [theme=dark] .colab-df-convert:hover {\n",
              "      background-color: #434B5C;\n",
              "      box-shadow: 0px 1px 3px 1px rgba(0, 0, 0, 0.15);\n",
              "      filter: drop-shadow(0px 1px 2px rgba(0, 0, 0, 0.3));\n",
              "      fill: #FFFFFF;\n",
              "    }\n",
              "  </style>\n",
              "\n",
              "      <script>\n",
              "        const buttonEl =\n",
              "          document.querySelector('#df-08e745fc-275f-4a67-a3f8-065ddac41037 button.colab-df-convert');\n",
              "        buttonEl.style.display =\n",
              "          google.colab.kernel.accessAllowed ? 'block' : 'none';\n",
              "\n",
              "        async function convertToInteractive(key) {\n",
              "          const element = document.querySelector('#df-08e745fc-275f-4a67-a3f8-065ddac41037');\n",
              "          const dataTable =\n",
              "            await google.colab.kernel.invokeFunction('convertToInteractive',\n",
              "                                                     [key], {});\n",
              "          if (!dataTable) return;\n",
              "\n",
              "          const docLinkHtml = 'Like what you see? Visit the ' +\n",
              "            '<a target=\"_blank\" href=https://colab.research.google.com/notebooks/data_table.ipynb>data table notebook</a>'\n",
              "            + ' to learn more about interactive tables.';\n",
              "          element.innerHTML = '';\n",
              "          dataTable['output_type'] = 'display_data';\n",
              "          await google.colab.output.renderOutput(dataTable, element);\n",
              "          const docLink = document.createElement('div');\n",
              "          docLink.innerHTML = docLinkHtml;\n",
              "          element.appendChild(docLink);\n",
              "        }\n",
              "      </script>\n",
              "    </div>\n",
              "  </div>\n",
              "  "
            ]
          },
          "metadata": {},
          "execution_count": 13
        }
      ]
    },
    {
      "cell_type": "code",
      "source": [
        "df = pd.concat([df.iloc[:4000,:],it],axis=0)\n",
        "df.info()"
      ],
      "metadata": {
        "colab": {
          "base_uri": "https://localhost:8080/"
        },
        "id": "o_EtoNjggRXQ",
        "outputId": "a604f696-b39f-4f94-dc12-e8eec444e596"
      },
      "execution_count": null,
      "outputs": [
        {
          "output_type": "stream",
          "name": "stdout",
          "text": [
            "<class 'pandas.core.frame.DataFrame'>\n",
            "Int64Index: 7411 entries, 0 to 3410\n",
            "Data columns (total 3 columns):\n",
            " #   Column       Non-Null Count  Dtype \n",
            "---  ------       --------------  ----- \n",
            " 0   title        7411 non-null   object\n",
            " 1   description  7394 non-null   object\n",
            " 2   genres       7411 non-null   object\n",
            "dtypes: object(3)\n",
            "memory usage: 231.6+ KB\n"
          ]
        }
      ]
    },
    {
      "cell_type": "code",
      "source": [
        "def filter_genres(row):\n",
        "  if 'IT' in row:\n",
        "    return 'IT'\n",
        "  else :\n",
        "    return 'Not'\n",
        "\n",
        "df['genres'] = df['genres'].apply(lambda row:filter_genres(row))\n",
        "df.head()"
      ],
      "metadata": {
        "colab": {
          "base_uri": "https://localhost:8080/",
          "height": 206
        },
        "id": "h6fE6UKuXNBZ",
        "outputId": "85f93296-ee5c-4003-e5f6-3ec0854723c3"
      },
      "execution_count": null,
      "outputs": [
        {
          "output_type": "execute_result",
          "data": {
            "text/plain": [
              "                                       title  \\\n",
              "0                           The Hunger Games   \n",
              "1  Harry Potter and the Order of the Phoenix   \n",
              "2                      To Kill a Mockingbird   \n",
              "3                        Pride and Prejudice   \n",
              "4                                   Twilight   \n",
              "\n",
              "                                         description genres  \n",
              "0  WINNING MEANS FAME AND FORTUNE.LOSING MEANS CE...    Not  \n",
              "1  There is a door at the end of a silent corrido...    Not  \n",
              "2  The unforgettable novel of a childhood in a sl...    Not  \n",
              "3  Alternate cover edition of ISBN 9780679783268S...    Not  \n",
              "4  About three things I was absolutely positive.\\...    Not  "
            ],
            "text/html": [
              "\n",
              "  <div id=\"df-ea3abe59-c9d8-4877-a105-1b34f3443fad\">\n",
              "    <div class=\"colab-df-container\">\n",
              "      <div>\n",
              "<style scoped>\n",
              "    .dataframe tbody tr th:only-of-type {\n",
              "        vertical-align: middle;\n",
              "    }\n",
              "\n",
              "    .dataframe tbody tr th {\n",
              "        vertical-align: top;\n",
              "    }\n",
              "\n",
              "    .dataframe thead th {\n",
              "        text-align: right;\n",
              "    }\n",
              "</style>\n",
              "<table border=\"1\" class=\"dataframe\">\n",
              "  <thead>\n",
              "    <tr style=\"text-align: right;\">\n",
              "      <th></th>\n",
              "      <th>title</th>\n",
              "      <th>description</th>\n",
              "      <th>genres</th>\n",
              "    </tr>\n",
              "  </thead>\n",
              "  <tbody>\n",
              "    <tr>\n",
              "      <th>0</th>\n",
              "      <td>The Hunger Games</td>\n",
              "      <td>WINNING MEANS FAME AND FORTUNE.LOSING MEANS CE...</td>\n",
              "      <td>Not</td>\n",
              "    </tr>\n",
              "    <tr>\n",
              "      <th>1</th>\n",
              "      <td>Harry Potter and the Order of the Phoenix</td>\n",
              "      <td>There is a door at the end of a silent corrido...</td>\n",
              "      <td>Not</td>\n",
              "    </tr>\n",
              "    <tr>\n",
              "      <th>2</th>\n",
              "      <td>To Kill a Mockingbird</td>\n",
              "      <td>The unforgettable novel of a childhood in a sl...</td>\n",
              "      <td>Not</td>\n",
              "    </tr>\n",
              "    <tr>\n",
              "      <th>3</th>\n",
              "      <td>Pride and Prejudice</td>\n",
              "      <td>Alternate cover edition of ISBN 9780679783268S...</td>\n",
              "      <td>Not</td>\n",
              "    </tr>\n",
              "    <tr>\n",
              "      <th>4</th>\n",
              "      <td>Twilight</td>\n",
              "      <td>About three things I was absolutely positive.\\...</td>\n",
              "      <td>Not</td>\n",
              "    </tr>\n",
              "  </tbody>\n",
              "</table>\n",
              "</div>\n",
              "      <button class=\"colab-df-convert\" onclick=\"convertToInteractive('df-ea3abe59-c9d8-4877-a105-1b34f3443fad')\"\n",
              "              title=\"Convert this dataframe to an interactive table.\"\n",
              "              style=\"display:none;\">\n",
              "        \n",
              "  <svg xmlns=\"http://www.w3.org/2000/svg\" height=\"24px\"viewBox=\"0 0 24 24\"\n",
              "       width=\"24px\">\n",
              "    <path d=\"M0 0h24v24H0V0z\" fill=\"none\"/>\n",
              "    <path d=\"M18.56 5.44l.94 2.06.94-2.06 2.06-.94-2.06-.94-.94-2.06-.94 2.06-2.06.94zm-11 1L8.5 8.5l.94-2.06 2.06-.94-2.06-.94L8.5 2.5l-.94 2.06-2.06.94zm10 10l.94 2.06.94-2.06 2.06-.94-2.06-.94-.94-2.06-.94 2.06-2.06.94z\"/><path d=\"M17.41 7.96l-1.37-1.37c-.4-.4-.92-.59-1.43-.59-.52 0-1.04.2-1.43.59L10.3 9.45l-7.72 7.72c-.78.78-.78 2.05 0 2.83L4 21.41c.39.39.9.59 1.41.59.51 0 1.02-.2 1.41-.59l7.78-7.78 2.81-2.81c.8-.78.8-2.07 0-2.86zM5.41 20L4 18.59l7.72-7.72 1.47 1.35L5.41 20z\"/>\n",
              "  </svg>\n",
              "      </button>\n",
              "      \n",
              "  <style>\n",
              "    .colab-df-container {\n",
              "      display:flex;\n",
              "      flex-wrap:wrap;\n",
              "      gap: 12px;\n",
              "    }\n",
              "\n",
              "    .colab-df-convert {\n",
              "      background-color: #E8F0FE;\n",
              "      border: none;\n",
              "      border-radius: 50%;\n",
              "      cursor: pointer;\n",
              "      display: none;\n",
              "      fill: #1967D2;\n",
              "      height: 32px;\n",
              "      padding: 0 0 0 0;\n",
              "      width: 32px;\n",
              "    }\n",
              "\n",
              "    .colab-df-convert:hover {\n",
              "      background-color: #E2EBFA;\n",
              "      box-shadow: 0px 1px 2px rgba(60, 64, 67, 0.3), 0px 1px 3px 1px rgba(60, 64, 67, 0.15);\n",
              "      fill: #174EA6;\n",
              "    }\n",
              "\n",
              "    [theme=dark] .colab-df-convert {\n",
              "      background-color: #3B4455;\n",
              "      fill: #D2E3FC;\n",
              "    }\n",
              "\n",
              "    [theme=dark] .colab-df-convert:hover {\n",
              "      background-color: #434B5C;\n",
              "      box-shadow: 0px 1px 3px 1px rgba(0, 0, 0, 0.15);\n",
              "      filter: drop-shadow(0px 1px 2px rgba(0, 0, 0, 0.3));\n",
              "      fill: #FFFFFF;\n",
              "    }\n",
              "  </style>\n",
              "\n",
              "      <script>\n",
              "        const buttonEl =\n",
              "          document.querySelector('#df-ea3abe59-c9d8-4877-a105-1b34f3443fad button.colab-df-convert');\n",
              "        buttonEl.style.display =\n",
              "          google.colab.kernel.accessAllowed ? 'block' : 'none';\n",
              "\n",
              "        async function convertToInteractive(key) {\n",
              "          const element = document.querySelector('#df-ea3abe59-c9d8-4877-a105-1b34f3443fad');\n",
              "          const dataTable =\n",
              "            await google.colab.kernel.invokeFunction('convertToInteractive',\n",
              "                                                     [key], {});\n",
              "          if (!dataTable) return;\n",
              "\n",
              "          const docLinkHtml = 'Like what you see? Visit the ' +\n",
              "            '<a target=\"_blank\" href=https://colab.research.google.com/notebooks/data_table.ipynb>data table notebook</a>'\n",
              "            + ' to learn more about interactive tables.';\n",
              "          element.innerHTML = '';\n",
              "          dataTable['output_type'] = 'display_data';\n",
              "          await google.colab.output.renderOutput(dataTable, element);\n",
              "          const docLink = document.createElement('div');\n",
              "          docLink.innerHTML = docLinkHtml;\n",
              "          element.appendChild(docLink);\n",
              "        }\n",
              "      </script>\n",
              "    </div>\n",
              "  </div>\n",
              "  "
            ]
          },
          "metadata": {},
          "execution_count": 15
        }
      ]
    },
    {
      "cell_type": "code",
      "source": [
        "genres_counts = {\n",
        "    'Not':0,\n",
        "    'IT':0\n",
        "}\n",
        "for i,row in enumerate(df['genres']):\n",
        "  if 'Not' in row :\n",
        "      genres_counts['Not'] += 1\n",
        "  if 'IT' in row:\n",
        "      genres_counts['IT'] += 1"
      ],
      "metadata": {
        "id": "aFdwnTNSX_8s"
      },
      "execution_count": null,
      "outputs": []
    },
    {
      "cell_type": "code",
      "source": [
        "for g in  genres_counts:\n",
        "  print(g,'  : ',genres_counts[g])"
      ],
      "metadata": {
        "colab": {
          "base_uri": "https://localhost:8080/"
        },
        "id": "guCSg5rDW7Vh",
        "outputId": "55ab0a71-382e-4b2c-ed17-64e39f3f154b"
      },
      "execution_count": null,
      "outputs": [
        {
          "output_type": "stream",
          "name": "stdout",
          "text": [
            "Not   :  4000\n",
            "IT   :  3411\n"
          ]
        }
      ]
    },
    {
      "cell_type": "code",
      "source": [
        "#description lenght \n",
        "lengths = df['description'].str.split(' ').str.len()"
      ],
      "metadata": {
        "id": "8rbE98ApXXrn"
      },
      "execution_count": null,
      "outputs": []
    },
    {
      "cell_type": "code",
      "source": [
        ""
      ],
      "metadata": {
        "id": "8JEzQUgtXiA_"
      },
      "execution_count": null,
      "outputs": []
    },
    {
      "cell_type": "code",
      "execution_count": null,
      "metadata": {
        "id": "427szKk37oeI"
      },
      "outputs": [],
      "source": [
        "columns = list(df.columns)"
      ]
    },
    {
      "cell_type": "code",
      "execution_count": null,
      "metadata": {
        "id": "4vDAe0n-lEQK"
      },
      "outputs": [],
      "source": [
        "df = pd.concat([df,lengths],axis=1)"
      ]
    },
    {
      "cell_type": "code",
      "execution_count": null,
      "metadata": {
        "colab": {
          "base_uri": "https://localhost:8080/",
          "height": 206
        },
        "id": "fVnBgYfori2f",
        "outputId": "b7abcc91-e891-4d65-dbfc-43f67f44d8d2"
      },
      "outputs": [
        {
          "output_type": "execute_result",
          "data": {
            "text/plain": [
              "                                       title  \\\n",
              "0                           The Hunger Games   \n",
              "1  Harry Potter and the Order of the Phoenix   \n",
              "2                      To Kill a Mockingbird   \n",
              "3                        Pride and Prejudice   \n",
              "4                                   Twilight   \n",
              "\n",
              "                                         description genres    len  \n",
              "0  WINNING MEANS FAME AND FORTUNE.LOSING MEANS CE...    Not  147.0  \n",
              "1  There is a door at the end of a silent corrido...    Not  136.0  \n",
              "2  The unforgettable novel of a childhood in a sl...    Not  137.0  \n",
              "3  Alternate cover edition of ISBN 9780679783268S...    Not  100.0  \n",
              "4  About three things I was absolutely positive.\\...    Not   51.0  "
            ],
            "text/html": [
              "\n",
              "  <div id=\"df-f33566c4-91b8-4776-8af8-f43fe6825e1b\">\n",
              "    <div class=\"colab-df-container\">\n",
              "      <div>\n",
              "<style scoped>\n",
              "    .dataframe tbody tr th:only-of-type {\n",
              "        vertical-align: middle;\n",
              "    }\n",
              "\n",
              "    .dataframe tbody tr th {\n",
              "        vertical-align: top;\n",
              "    }\n",
              "\n",
              "    .dataframe thead th {\n",
              "        text-align: right;\n",
              "    }\n",
              "</style>\n",
              "<table border=\"1\" class=\"dataframe\">\n",
              "  <thead>\n",
              "    <tr style=\"text-align: right;\">\n",
              "      <th></th>\n",
              "      <th>title</th>\n",
              "      <th>description</th>\n",
              "      <th>genres</th>\n",
              "      <th>len</th>\n",
              "    </tr>\n",
              "  </thead>\n",
              "  <tbody>\n",
              "    <tr>\n",
              "      <th>0</th>\n",
              "      <td>The Hunger Games</td>\n",
              "      <td>WINNING MEANS FAME AND FORTUNE.LOSING MEANS CE...</td>\n",
              "      <td>Not</td>\n",
              "      <td>147.0</td>\n",
              "    </tr>\n",
              "    <tr>\n",
              "      <th>1</th>\n",
              "      <td>Harry Potter and the Order of the Phoenix</td>\n",
              "      <td>There is a door at the end of a silent corrido...</td>\n",
              "      <td>Not</td>\n",
              "      <td>136.0</td>\n",
              "    </tr>\n",
              "    <tr>\n",
              "      <th>2</th>\n",
              "      <td>To Kill a Mockingbird</td>\n",
              "      <td>The unforgettable novel of a childhood in a sl...</td>\n",
              "      <td>Not</td>\n",
              "      <td>137.0</td>\n",
              "    </tr>\n",
              "    <tr>\n",
              "      <th>3</th>\n",
              "      <td>Pride and Prejudice</td>\n",
              "      <td>Alternate cover edition of ISBN 9780679783268S...</td>\n",
              "      <td>Not</td>\n",
              "      <td>100.0</td>\n",
              "    </tr>\n",
              "    <tr>\n",
              "      <th>4</th>\n",
              "      <td>Twilight</td>\n",
              "      <td>About three things I was absolutely positive.\\...</td>\n",
              "      <td>Not</td>\n",
              "      <td>51.0</td>\n",
              "    </tr>\n",
              "  </tbody>\n",
              "</table>\n",
              "</div>\n",
              "      <button class=\"colab-df-convert\" onclick=\"convertToInteractive('df-f33566c4-91b8-4776-8af8-f43fe6825e1b')\"\n",
              "              title=\"Convert this dataframe to an interactive table.\"\n",
              "              style=\"display:none;\">\n",
              "        \n",
              "  <svg xmlns=\"http://www.w3.org/2000/svg\" height=\"24px\"viewBox=\"0 0 24 24\"\n",
              "       width=\"24px\">\n",
              "    <path d=\"M0 0h24v24H0V0z\" fill=\"none\"/>\n",
              "    <path d=\"M18.56 5.44l.94 2.06.94-2.06 2.06-.94-2.06-.94-.94-2.06-.94 2.06-2.06.94zm-11 1L8.5 8.5l.94-2.06 2.06-.94-2.06-.94L8.5 2.5l-.94 2.06-2.06.94zm10 10l.94 2.06.94-2.06 2.06-.94-2.06-.94-.94-2.06-.94 2.06-2.06.94z\"/><path d=\"M17.41 7.96l-1.37-1.37c-.4-.4-.92-.59-1.43-.59-.52 0-1.04.2-1.43.59L10.3 9.45l-7.72 7.72c-.78.78-.78 2.05 0 2.83L4 21.41c.39.39.9.59 1.41.59.51 0 1.02-.2 1.41-.59l7.78-7.78 2.81-2.81c.8-.78.8-2.07 0-2.86zM5.41 20L4 18.59l7.72-7.72 1.47 1.35L5.41 20z\"/>\n",
              "  </svg>\n",
              "      </button>\n",
              "      \n",
              "  <style>\n",
              "    .colab-df-container {\n",
              "      display:flex;\n",
              "      flex-wrap:wrap;\n",
              "      gap: 12px;\n",
              "    }\n",
              "\n",
              "    .colab-df-convert {\n",
              "      background-color: #E8F0FE;\n",
              "      border: none;\n",
              "      border-radius: 50%;\n",
              "      cursor: pointer;\n",
              "      display: none;\n",
              "      fill: #1967D2;\n",
              "      height: 32px;\n",
              "      padding: 0 0 0 0;\n",
              "      width: 32px;\n",
              "    }\n",
              "\n",
              "    .colab-df-convert:hover {\n",
              "      background-color: #E2EBFA;\n",
              "      box-shadow: 0px 1px 2px rgba(60, 64, 67, 0.3), 0px 1px 3px 1px rgba(60, 64, 67, 0.15);\n",
              "      fill: #174EA6;\n",
              "    }\n",
              "\n",
              "    [theme=dark] .colab-df-convert {\n",
              "      background-color: #3B4455;\n",
              "      fill: #D2E3FC;\n",
              "    }\n",
              "\n",
              "    [theme=dark] .colab-df-convert:hover {\n",
              "      background-color: #434B5C;\n",
              "      box-shadow: 0px 1px 3px 1px rgba(0, 0, 0, 0.15);\n",
              "      filter: drop-shadow(0px 1px 2px rgba(0, 0, 0, 0.3));\n",
              "      fill: #FFFFFF;\n",
              "    }\n",
              "  </style>\n",
              "\n",
              "      <script>\n",
              "        const buttonEl =\n",
              "          document.querySelector('#df-f33566c4-91b8-4776-8af8-f43fe6825e1b button.colab-df-convert');\n",
              "        buttonEl.style.display =\n",
              "          google.colab.kernel.accessAllowed ? 'block' : 'none';\n",
              "\n",
              "        async function convertToInteractive(key) {\n",
              "          const element = document.querySelector('#df-f33566c4-91b8-4776-8af8-f43fe6825e1b');\n",
              "          const dataTable =\n",
              "            await google.colab.kernel.invokeFunction('convertToInteractive',\n",
              "                                                     [key], {});\n",
              "          if (!dataTable) return;\n",
              "\n",
              "          const docLinkHtml = 'Like what you see? Visit the ' +\n",
              "            '<a target=\"_blank\" href=https://colab.research.google.com/notebooks/data_table.ipynb>data table notebook</a>'\n",
              "            + ' to learn more about interactive tables.';\n",
              "          element.innerHTML = '';\n",
              "          dataTable['output_type'] = 'display_data';\n",
              "          await google.colab.output.renderOutput(dataTable, element);\n",
              "          const docLink = document.createElement('div');\n",
              "          docLink.innerHTML = docLinkHtml;\n",
              "          element.appendChild(docLink);\n",
              "        }\n",
              "      </script>\n",
              "    </div>\n",
              "  </div>\n",
              "  "
            ]
          },
          "metadata": {},
          "execution_count": 21
        }
      ],
      "source": [
        "df.columns = columns+['len']\n",
        "df.head()"
      ]
    },
    {
      "cell_type": "code",
      "execution_count": null,
      "metadata": {
        "colab": {
          "base_uri": "https://localhost:8080/",
          "height": 445
        },
        "id": "4oveT8qLjxnJ",
        "outputId": "b7291050-d5d8-4f75-ebfd-8d6845a0c693"
      },
      "outputs": [
        {
          "output_type": "execute_result",
          "data": {
            "text/plain": [
              "(0.0, 700.0)"
            ]
          },
          "metadata": {},
          "execution_count": 22
        },
        {
          "output_type": "display_data",
          "data": {
            "text/plain": [
              "<Figure size 1440x504 with 1 Axes>"
            ],
            "image/png": "[encoded data removed]"
          },
          "metadata": {
            "needs_background": "light"
          }
        }
      ],
      "source": [
        "#description lengths\n",
        "fig = plt.figure(figsize = (20, 7))\n",
        "df['len'].plot.hist(bins=200)\n",
        "plt.xlim(0,700)"
      ]
    },
    {
      "cell_type": "code",
      "execution_count": null,
      "metadata": {
        "colab": {
          "base_uri": "https://localhost:8080/"
        },
        "id": "PnWGjeNjM_MA",
        "outputId": "56729c97-53a3-4890-d539-6f29fbc2f219"
      },
      "outputs": [
        {
          "output_type": "execute_result",
          "data": {
            "text/plain": [
              "True     7394\n",
              "False      17\n",
              "Name: description, dtype: int64"
            ]
          },
          "metadata": {},
          "execution_count": 23
        }
      ],
      "source": [
        "#null values\n",
        "df['description'].notnull().value_counts()"
      ]
    },
    {
      "cell_type": "code",
      "execution_count": null,
      "metadata": {
        "id": "epxPSMPpHKB9"
      },
      "outputs": [],
      "source": [
        "#meningles description \n",
        "import numpy as np\n",
        "df.loc[df['len']<10,['description']] = np.nan"
      ]
    },
    {
      "cell_type": "code",
      "execution_count": null,
      "metadata": {
        "id": "QJ8FU8YWUT42"
      },
      "outputs": [],
      "source": [
        "df.loc[df['len']<10,['len']] = np.nan"
      ]
    },
    {
      "cell_type": "code",
      "execution_count": null,
      "metadata": {
        "colab": {
          "base_uri": "https://localhost:8080/"
        },
        "id": "ac9eCEo5RwR7",
        "outputId": "845db6ea-f51d-4d66-a21c-15d345c24d66"
      },
      "outputs": [
        {
          "output_type": "execute_result",
          "data": {
            "text/plain": [
              "True     7391\n",
              "False      20\n",
              "Name: description, dtype: int64"
            ]
          },
          "metadata": {},
          "execution_count": 26
        }
      ],
      "source": [
        "df['description'].notnull().value_counts()"
      ]
    },
    {
      "cell_type": "code",
      "execution_count": null,
      "metadata": {
        "id": "yAFCUagBX82b"
      },
      "outputs": [],
      "source": [
        "df = df[df['description'].notnull()]"
      ]
    },
    {
      "cell_type": "code",
      "source": [
        "for g in  genres_counts:\n",
        "  print(g,'  : ',genres_counts[g])"
      ],
      "metadata": {
        "colab": {
          "base_uri": "https://localhost:8080/"
        },
        "id": "YHOfhOH7XP-o",
        "outputId": "8e0ac17d-dd96-4087-fbfb-d29d9f4c2f59"
      },
      "execution_count": null,
      "outputs": [
        {
          "output_type": "stream",
          "name": "stdout",
          "text": [
            "Not   :  4000\n",
            "IT   :  3411\n"
          ]
        }
      ]
    },
    {
      "cell_type": "code",
      "source": [
        "# let plot those counts\n",
        "genre = list(genres_counts.keys())\n",
        "count = list(genres_counts.values())\n",
        "import matplotlib.pyplot as plt\n",
        "%matplotlib inline\n",
        "fig = plt.figure(figsize = (14, 7))\n",
        " \n",
        "# creating the bar plot\n",
        "plt.bar(genre, count, color ='maroon',\n",
        "        width = 0.6)\n",
        " \n",
        "plt.xlabel(\"genres\")\n",
        "plt.ylabel(\"No. of books\")\n",
        "plt.title(\"bookss in each genre\")\n",
        "plt.show()"
      ],
      "metadata": {
        "colab": {
          "base_uri": "https://localhost:8080/",
          "height": 458
        },
        "id": "UgxuGK0nXR_m",
        "outputId": "06f9678f-687b-4133-b124-249825eb126f"
      },
      "execution_count": null,
      "outputs": [
        {
          "output_type": "display_data",
          "data": {
            "text/plain": [
              "<Figure size 1008x504 with 1 Axes>"
            ],
            "image/png": "[encoded data removed]"
          },
          "metadata": {
            "needs_background": "light"
          }
        }
      ]
    },
    {
      "cell_type": "code",
      "source": [
        ""
      ],
      "metadata": {
        "id": "YsC1vPvOdLwm"
      },
      "execution_count": null,
      "outputs": []
    },
    {
      "cell_type": "code",
      "source": [
        "import pickle\n",
        "with open('/content/drive/My Drive/data_t.txt', 'wb') as f:\n",
        "    pickle.dump( df,f)"
      ],
      "metadata": {
        "id": "lPGXtAE_dK4f"
      },
      "execution_count": null,
      "outputs": []
    }
  ]
}