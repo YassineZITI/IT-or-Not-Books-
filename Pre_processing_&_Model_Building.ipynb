{
  "cells": [
    {
      "cell_type": "markdown",
      "metadata": {
        "id": "view-in-github",
        "colab_type": "text"
      },
      "source": [
        "<a href=\"https://colab.research.google.com/github/YassineZITI/IT-or-Not-Books-/blob/main/Pre_processing_%26_Model_Building.ipynb\" target=\"_parent\"><img src=\"https://colab.research.google.com/assets/colab-badge.svg\" alt=\"Open In Colab\"/></a>"
      ]
    },
    {
      "cell_type": "markdown",
      "source": [
        "## in this last notebook we will build our classifier using keras."
      ],
      "metadata": {
        "id": "8tRjzS_tI-OC"
      }
    },
    {
      "cell_type": "markdown",
      "metadata": {
        "id": "qtdOkQqQRqnw"
      },
      "source": [
        "# Load data"
      ]
    },
    {
      "cell_type": "code",
      "execution_count": null,
      "metadata": {
        "colab": {
          "base_uri": "https://localhost:8080/"
        },
        "id": "qhujPsAbkbeH",
        "outputId": "78f73054-e85e-4d9b-9d79-023a61c11a03"
      },
      "outputs": [
        {
          "output_type": "stream",
          "name": "stdout",
          "text": [
            "Mounted at /content/drive\n"
          ]
        }
      ],
      "source": [
        "from google.colab import drive\n",
        "drive.mount('/content/drive', force_remount=True)"
      ]
    },
    {
      "cell_type": "code",
      "execution_count": null,
      "metadata": {
        "id": "k3u9j6r6TJnW"
      },
      "outputs": [],
      "source": [
        "import pickle\n",
        "with open('/content/drive/My Drive/data_t.txt', 'rb') as f:\n",
        "    df = pickle.load( f)\n"
      ]
    },
    {
      "cell_type": "code",
      "execution_count": null,
      "metadata": {
        "colab": {
          "base_uri": "https://localhost:8080/",
          "height": 206
        },
        "id": "Li1uLCteBeP3",
        "outputId": "69133dbf-04d9-4eba-a671-05f688ff77ed"
      },
      "outputs": [
        {
          "output_type": "execute_result",
          "data": {
            "text/plain": [
              "                                       title  \\\n",
              "0                           The Hunger Games   \n",
              "1  Harry Potter and the Order of the Phoenix   \n",
              "2                      To Kill a Mockingbird   \n",
              "3                        Pride and Prejudice   \n",
              "4                                   Twilight   \n",
              "\n",
              "                                         description genres    len  \n",
              "0  WINNING MEANS FAME AND FORTUNE.LOSING MEANS CE...    Not  147.0  \n",
              "1  There is a door at the end of a silent corrido...    Not  136.0  \n",
              "2  The unforgettable novel of a childhood in a sl...    Not  137.0  \n",
              "3  Alternate cover edition of ISBN 9780679783268S...    Not  100.0  \n",
              "4  About three things I was absolutely positive.\\...    Not   51.0  "
            ],
            "text/html": [
              "\n",
              "  <div id=\"df-5ee3c655-5018-4b54-ac99-ea0190cfc700\">\n",
              "    <div class=\"colab-df-container\">\n",
              "      <div>\n",
              "<style scoped>\n",
              "    .dataframe tbody tr th:only-of-type {\n",
              "        vertical-align: middle;\n",
              "    }\n",
              "\n",
              "    .dataframe tbody tr th {\n",
              "        vertical-align: top;\n",
              "    }\n",
              "\n",
              "    .dataframe thead th {\n",
              "        text-align: right;\n",
              "    }\n",
              "</style>\n",
              "<table border=\"1\" class=\"dataframe\">\n",
              "  <thead>\n",
              "    <tr style=\"text-align: right;\">\n",
              "      <th></th>\n",
              "      <th>title</th>\n",
              "      <th>description</th>\n",
              "      <th>genres</th>\n",
              "      <th>len</th>\n",
              "    </tr>\n",
              "  </thead>\n",
              "  <tbody>\n",
              "    <tr>\n",
              "      <th>0</th>\n",
              "      <td>The Hunger Games</td>\n",
              "      <td>WINNING MEANS FAME AND FORTUNE.LOSING MEANS CE...</td>\n",
              "      <td>Not</td>\n",
              "      <td>147.0</td>\n",
              "    </tr>\n",
              "    <tr>\n",
              "      <th>1</th>\n",
              "      <td>Harry Potter and the Order of the Phoenix</td>\n",
              "      <td>There is a door at the end of a silent corrido...</td>\n",
              "      <td>Not</td>\n",
              "      <td>136.0</td>\n",
              "    </tr>\n",
              "    <tr>\n",
              "      <th>2</th>\n",
              "      <td>To Kill a Mockingbird</td>\n",
              "      <td>The unforgettable novel of a childhood in a sl...</td>\n",
              "      <td>Not</td>\n",
              "      <td>137.0</td>\n",
              "    </tr>\n",
              "    <tr>\n",
              "      <th>3</th>\n",
              "      <td>Pride and Prejudice</td>\n",
              "      <td>Alternate cover edition of ISBN 9780679783268S...</td>\n",
              "      <td>Not</td>\n",
              "      <td>100.0</td>\n",
              "    </tr>\n",
              "    <tr>\n",
              "      <th>4</th>\n",
              "      <td>Twilight</td>\n",
              "      <td>About three things I was absolutely positive.\\...</td>\n",
              "      <td>Not</td>\n",
              "      <td>51.0</td>\n",
              "    </tr>\n",
              "  </tbody>\n",
              "</table>\n",
              "</div>\n",
              "      <button class=\"colab-df-convert\" onclick=\"convertToInteractive('df-5ee3c655-5018-4b54-ac99-ea0190cfc700')\"\n",
              "              title=\"Convert this dataframe to an interactive table.\"\n",
              "              style=\"display:none;\">\n",
              "        \n",
              "  <svg xmlns=\"http://www.w3.org/2000/svg\" height=\"24px\"viewBox=\"0 0 24 24\"\n",
              "       width=\"24px\">\n",
              "    <path d=\"M0 0h24v24H0V0z\" fill=\"none\"/>\n",
              "    <path d=\"M18.56 5.44l.94 2.06.94-2.06 2.06-.94-2.06-.94-.94-2.06-.94 2.06-2.06.94zm-11 1L8.5 8.5l.94-2.06 2.06-.94-2.06-.94L8.5 2.5l-.94 2.06-2.06.94zm10 10l.94 2.06.94-2.06 2.06-.94-2.06-.94-.94-2.06-.94 2.06-2.06.94z\"/><path d=\"M17.41 7.96l-1.37-1.37c-.4-.4-.92-.59-1.43-.59-.52 0-1.04.2-1.43.59L10.3 9.45l-7.72 7.72c-.78.78-.78 2.05 0 2.83L4 21.41c.39.39.9.59 1.41.59.51 0 1.02-.2 1.41-.59l7.78-7.78 2.81-2.81c.8-.78.8-2.07 0-2.86zM5.41 20L4 18.59l7.72-7.72 1.47 1.35L5.41 20z\"/>\n",
              "  </svg>\n",
              "      </button>\n",
              "      \n",
              "  <style>\n",
              "    .colab-df-container {\n",
              "      display:flex;\n",
              "      flex-wrap:wrap;\n",
              "      gap: 12px;\n",
              "    }\n",
              "\n",
              "    .colab-df-convert {\n",
              "      background-color: #E8F0FE;\n",
              "      border: none;\n",
              "      border-radius: 50%;\n",
              "      cursor: pointer;\n",
              "      display: none;\n",
              "      fill: #1967D2;\n",
              "      height: 32px;\n",
              "      padding: 0 0 0 0;\n",
              "      width: 32px;\n",
              "    }\n",
              "\n",
              "    .colab-df-convert:hover {\n",
              "      background-color: #E2EBFA;\n",
              "      box-shadow: 0px 1px 2px rgba(60, 64, 67, 0.3), 0px 1px 3px 1px rgba(60, 64, 67, 0.15);\n",
              "      fill: #174EA6;\n",
              "    }\n",
              "\n",
              "    [theme=dark] .colab-df-convert {\n",
              "      background-color: #3B4455;\n",
              "      fill: #D2E3FC;\n",
              "    }\n",
              "\n",
              "    [theme=dark] .colab-df-convert:hover {\n",
              "      background-color: #434B5C;\n",
              "      box-shadow: 0px 1px 3px 1px rgba(0, 0, 0, 0.15);\n",
              "      filter: drop-shadow(0px 1px 2px rgba(0, 0, 0, 0.3));\n",
              "      fill: #FFFFFF;\n",
              "    }\n",
              "  </style>\n",
              "\n",
              "      <script>\n",
              "        const buttonEl =\n",
              "          document.querySelector('#df-5ee3c655-5018-4b54-ac99-ea0190cfc700 button.colab-df-convert');\n",
              "        buttonEl.style.display =\n",
              "          google.colab.kernel.accessAllowed ? 'block' : 'none';\n",
              "\n",
              "        async function convertToInteractive(key) {\n",
              "          const element = document.querySelector('#df-5ee3c655-5018-4b54-ac99-ea0190cfc700');\n",
              "          const dataTable =\n",
              "            await google.colab.kernel.invokeFunction('convertToInteractive',\n",
              "                                                     [key], {});\n",
              "          if (!dataTable) return;\n",
              "\n",
              "          const docLinkHtml = 'Like what you see? Visit the ' +\n",
              "            '<a target=\"_blank\" href=https://colab.research.google.com/notebooks/data_table.ipynb>data table notebook</a>'\n",
              "            + ' to learn more about interactive tables.';\n",
              "          element.innerHTML = '';\n",
              "          dataTable['output_type'] = 'display_data';\n",
              "          await google.colab.output.renderOutput(dataTable, element);\n",
              "          const docLink = document.createElement('div');\n",
              "          docLink.innerHTML = docLinkHtml;\n",
              "          element.appendChild(docLink);\n",
              "        }\n",
              "      </script>\n",
              "    </div>\n",
              "  </div>\n",
              "  "
            ]
          },
          "metadata": {},
          "execution_count": 3
        }
      ],
      "source": [
        "import pandas as pd\n",
        "df.head()"
      ]
    },
    {
      "cell_type": "code",
      "source": [
        "df.info()"
      ],
      "metadata": {
        "colab": {
          "base_uri": "https://localhost:8080/"
        },
        "id": "WWjxJouKH1EJ",
        "outputId": "d1935d6f-9f93-4be3-ca28-b9a8ceb7e811"
      },
      "execution_count": null,
      "outputs": [
        {
          "output_type": "stream",
          "name": "stdout",
          "text": [
            "<class 'pandas.core.frame.DataFrame'>\n",
            "Int64Index: 7391 entries, 0 to 3410\n",
            "Data columns (total 4 columns):\n",
            " #   Column       Non-Null Count  Dtype  \n",
            "---  ------       --------------  -----  \n",
            " 0   title        7391 non-null   object \n",
            " 1   description  7391 non-null   object \n",
            " 2   genres       7391 non-null   object \n",
            " 3   len          7391 non-null   float64\n",
            "dtypes: float64(1), object(3)\n",
            "memory usage: 288.7+ KB\n"
          ]
        }
      ]
    },
    {
      "cell_type": "code",
      "execution_count": null,
      "metadata": {
        "colab": {
          "base_uri": "https://localhost:8080/",
          "height": 300
        },
        "id": "Zrprng3TZgJh",
        "outputId": "93d1f893-d353-4e4d-c4f2-90cd35b86b92"
      },
      "outputs": [
        {
          "output_type": "execute_result",
          "data": {
            "text/plain": [
              "               len\n",
              "count  7391.000000\n",
              "mean    146.167501\n",
              "std      67.157088\n",
              "min      16.000000\n",
              "25%      99.000000\n",
              "50%     136.000000\n",
              "75%     186.000000\n",
              "max     686.000000"
            ],
            "text/html": [
              "\n",
              "  <div id=\"df-4d04c3f7-5c7d-4915-ac72-ff56dce67100\">\n",
              "    <div class=\"colab-df-container\">\n",
              "      <div>\n",
              "<style scoped>\n",
              "    .dataframe tbody tr th:only-of-type {\n",
              "        vertical-align: middle;\n",
              "    }\n",
              "\n",
              "    .dataframe tbody tr th {\n",
              "        vertical-align: top;\n",
              "    }\n",
              "\n",
              "    .dataframe thead th {\n",
              "        text-align: right;\n",
              "    }\n",
              "</style>\n",
              "<table border=\"1\" class=\"dataframe\">\n",
              "  <thead>\n",
              "    <tr style=\"text-align: right;\">\n",
              "      <th></th>\n",
              "      <th>len</th>\n",
              "    </tr>\n",
              "  </thead>\n",
              "  <tbody>\n",
              "    <tr>\n",
              "      <th>count</th>\n",
              "      <td>7391.000000</td>\n",
              "    </tr>\n",
              "    <tr>\n",
              "      <th>mean</th>\n",
              "      <td>146.167501</td>\n",
              "    </tr>\n",
              "    <tr>\n",
              "      <th>std</th>\n",
              "      <td>67.157088</td>\n",
              "    </tr>\n",
              "    <tr>\n",
              "      <th>min</th>\n",
              "      <td>16.000000</td>\n",
              "    </tr>\n",
              "    <tr>\n",
              "      <th>25%</th>\n",
              "      <td>99.000000</td>\n",
              "    </tr>\n",
              "    <tr>\n",
              "      <th>50%</th>\n",
              "      <td>136.000000</td>\n",
              "    </tr>\n",
              "    <tr>\n",
              "      <th>75%</th>\n",
              "      <td>186.000000</td>\n",
              "    </tr>\n",
              "    <tr>\n",
              "      <th>max</th>\n",
              "      <td>686.000000</td>\n",
              "    </tr>\n",
              "  </tbody>\n",
              "</table>\n",
              "</div>\n",
              "      <button class=\"colab-df-convert\" onclick=\"convertToInteractive('df-4d04c3f7-5c7d-4915-ac72-ff56dce67100')\"\n",
              "              title=\"Convert this dataframe to an interactive table.\"\n",
              "              style=\"display:none;\">\n",
              "        \n",
              "  <svg xmlns=\"http://www.w3.org/2000/svg\" height=\"24px\"viewBox=\"0 0 24 24\"\n",
              "       width=\"24px\">\n",
              "    <path d=\"M0 0h24v24H0V0z\" fill=\"none\"/>\n",
              "    <path d=\"M18.56 5.44l.94 2.06.94-2.06 2.06-.94-2.06-.94-.94-2.06-.94 2.06-2.06.94zm-11 1L8.5 8.5l.94-2.06 2.06-.94-2.06-.94L8.5 2.5l-.94 2.06-2.06.94zm10 10l.94 2.06.94-2.06 2.06-.94-2.06-.94-.94-2.06-.94 2.06-2.06.94z\"/><path d=\"M17.41 7.96l-1.37-1.37c-.4-.4-.92-.59-1.43-.59-.52 0-1.04.2-1.43.59L10.3 9.45l-7.72 7.72c-.78.78-.78 2.05 0 2.83L4 21.41c.39.39.9.59 1.41.59.51 0 1.02-.2 1.41-.59l7.78-7.78 2.81-2.81c.8-.78.8-2.07 0-2.86zM5.41 20L4 18.59l7.72-7.72 1.47 1.35L5.41 20z\"/>\n",
              "  </svg>\n",
              "      </button>\n",
              "      \n",
              "  <style>\n",
              "    .colab-df-container {\n",
              "      display:flex;\n",
              "      flex-wrap:wrap;\n",
              "      gap: 12px;\n",
              "    }\n",
              "\n",
              "    .colab-df-convert {\n",
              "      background-color: #E8F0FE;\n",
              "      border: none;\n",
              "      border-radius: 50%;\n",
              "      cursor: pointer;\n",
              "      display: none;\n",
              "      fill: #1967D2;\n",
              "      height: 32px;\n",
              "      padding: 0 0 0 0;\n",
              "      width: 32px;\n",
              "    }\n",
              "\n",
              "    .colab-df-convert:hover {\n",
              "      background-color: #E2EBFA;\n",
              "      box-shadow: 0px 1px 2px rgba(60, 64, 67, 0.3), 0px 1px 3px 1px rgba(60, 64, 67, 0.15);\n",
              "      fill: #174EA6;\n",
              "    }\n",
              "\n",
              "    [theme=dark] .colab-df-convert {\n",
              "      background-color: #3B4455;\n",
              "      fill: #D2E3FC;\n",
              "    }\n",
              "\n",
              "    [theme=dark] .colab-df-convert:hover {\n",
              "      background-color: #434B5C;\n",
              "      box-shadow: 0px 1px 3px 1px rgba(0, 0, 0, 0.15);\n",
              "      filter: drop-shadow(0px 1px 2px rgba(0, 0, 0, 0.3));\n",
              "      fill: #FFFFFF;\n",
              "    }\n",
              "  </style>\n",
              "\n",
              "      <script>\n",
              "        const buttonEl =\n",
              "          document.querySelector('#df-4d04c3f7-5c7d-4915-ac72-ff56dce67100 button.colab-df-convert');\n",
              "        buttonEl.style.display =\n",
              "          google.colab.kernel.accessAllowed ? 'block' : 'none';\n",
              "\n",
              "        async function convertToInteractive(key) {\n",
              "          const element = document.querySelector('#df-4d04c3f7-5c7d-4915-ac72-ff56dce67100');\n",
              "          const dataTable =\n",
              "            await google.colab.kernel.invokeFunction('convertToInteractive',\n",
              "                                                     [key], {});\n",
              "          if (!dataTable) return;\n",
              "\n",
              "          const docLinkHtml = 'Like what you see? Visit the ' +\n",
              "            '<a target=\"_blank\" href=https://colab.research.google.com/notebooks/data_table.ipynb>data table notebook</a>'\n",
              "            + ' to learn more about interactive tables.';\n",
              "          element.innerHTML = '';\n",
              "          dataTable['output_type'] = 'display_data';\n",
              "          await google.colab.output.renderOutput(dataTable, element);\n",
              "          const docLink = document.createElement('div');\n",
              "          docLink.innerHTML = docLinkHtml;\n",
              "          element.appendChild(docLink);\n",
              "        }\n",
              "      </script>\n",
              "    </div>\n",
              "  </div>\n",
              "  "
            ]
          },
          "metadata": {},
          "execution_count": 5
        }
      ],
      "source": [
        "df.describe()"
      ]
    },
    {
      "cell_type": "markdown",
      "metadata": {
        "id": "vDSEo7vQZ_Sl"
      },
      "source": [
        "# Explore Data & Clean"
      ]
    },
    {
      "cell_type": "code",
      "execution_count": null,
      "metadata": {
        "colab": {
          "base_uri": "https://localhost:8080/",
          "height": 88
        },
        "id": "L-F3VvnBH3An",
        "outputId": "5ecc601b-a15d-404e-cd0f-e2d2b405bb46"
      },
      "outputs": [
        {
          "output_type": "execute_result",
          "data": {
            "text/plain": [
              "\" If you need to deploy, manage, or secure Microsoft SQL Server 2008, this is the complete, fast-paced, task-based reference you've been searching for. Authored by a world-class expert on SQL Server in the enterprise, this book goes far beyond the basics, taking on the complex tasks that DBAs need to make the most of Microsoft's flagship database platform. SQL Server MVP, Ross Mistry presents proven techniques for SQL Server 2008 installation, upgrades, backup/restore, data transfer, indexing, high availability, security, and much more. He draws on extensive testing in high-profile production environments to offer step-by-step solutions and powerful tips you won't find anywhere else.    \""
            ],
            "application/vnd.google.colaboratory.intrinsic+json": {
              "type": "string"
            }
          },
          "metadata": {},
          "execution_count": 6
        }
      ],
      "source": [
        "df['description'].iloc[4200]"
      ]
    },
    {
      "cell_type": "code",
      "execution_count": null,
      "metadata": {
        "id": "GdPvoy-Ycb--",
        "colab": {
          "base_uri": "https://localhost:8080/"
        },
        "outputId": "23dfa3ad-9a20-42ac-debb-c158caa37cd3"
      },
      "outputs": [
        {
          "output_type": "stream",
          "name": "stdout",
          "text": [
            "\u001b[K     |████████████████████████████████| 41.4 MB 1.4 MB/s \n",
            "\u001b[?25h  Building wheel for pycld2 (setup.py) ... \u001b[?25l\u001b[?25hdone\n"
          ]
        }
      ],
      "source": [
        "!pip install pycld2 -q"
      ]
    },
    {
      "cell_type": "code",
      "execution_count": null,
      "metadata": {
        "id": "a7r-TSbds_g8"
      },
      "outputs": [],
      "source": [
        "# check the language  (we filtered the non english in data collection step based on language feature now we check it maually)\n",
        "import pycld2 as cld2\n",
        "def detect_lang(row):\n",
        "  try:\n",
        "    _, _, details = cld2.detect(row\n",
        "  )\n",
        "    return details[0][0].capitalize()\n",
        "  except:\n",
        "    return None"
      ]
    },
    {
      "cell_type": "code",
      "execution_count": null,
      "metadata": {
        "id": "NrAa6fHNdrK9"
      },
      "outputs": [],
      "source": [
        "df['lang'] = df['description'].apply(lambda row:detect_lang(row))"
      ]
    },
    {
      "cell_type": "code",
      "execution_count": null,
      "metadata": {
        "colab": {
          "base_uri": "https://localhost:8080/"
        },
        "id": "m6CavGA3sjwo",
        "outputId": "dadd1287-cc3a-4f93-c532-5b1905636758"
      },
      "outputs": [
        {
          "output_type": "execute_result",
          "data": {
            "text/plain": [
              "7367"
            ]
          },
          "metadata": {},
          "execution_count": 10
        }
      ],
      "source": [
        "(df['lang'] == 'English').sum()"
      ]
    },
    {
      "cell_type": "code",
      "execution_count": null,
      "metadata": {
        "colab": {
          "base_uri": "https://localhost:8080/",
          "height": 426
        },
        "id": "5tOMdj61tP6q",
        "outputId": "6f3e73a8-d272-45cf-bfef-d701639d40cd"
      },
      "outputs": [
        {
          "output_type": "execute_result",
          "data": {
            "text/plain": [
              "                                                  title  \\\n",
              "1121                                 The Immortal Rules   \n",
              "1752                                    Raintree County   \n",
              "1956                                         Perelandra   \n",
              "3083                                     Vampire Kisses   \n",
              "3410                                    The Information   \n",
              "3708                           Trout Fishing in America   \n",
              "4027                                     The Underneath   \n",
              "497                           Deploying SharePoint 2019   \n",
              "2241                      Big Data Architect's Handbook   \n",
              "2399    Microsoft Excel 2019 Pivot Table Data Crunching   \n",
              "2805  Enterprise Application Development with C# 10 ...   \n",
              "3031                 Windows 10 Inside Out, 3rd Edition   \n",
              "\n",
              "                                            description genres    len  lang  \n",
              "1121  To survive in a ruined world, she must embrace...    Not  145.0  None  \n",
              "1752  Throughout a single day in 1892, John Shawness...    Not  116.0  None  \n",
              "1956  The second book in C. S. Lewis's acclaimed Spa...    Not  123.0  None  \n",
              "3083  In her small town, dubbed \"Dullsville,\" sixtee...    Not  130.0  None  \n",
              "3410  Fame, envy, lust, violence, intrigues literary...    Not  103.0  None  \n",
              "3708  Richard Brautigan was a literary idol of the 1...    Not   99.0  None  \n",
              "4027  There is nothing lonelier than a cat who has b...    Not  219.0  None  \n",
              "497    Update to a version of SharePoint that offers...     IT  202.0  None  \n",
              "2241   The big data architects are the â€œmastersâ€...     IT  208.0  None  \n",
              "2399   Renowned Excel experts Bill Jelen (MrExcel) a...     IT  263.0  None  \n",
              "2805   Building production-ready enterprise applicat...     IT  213.0  None  \n",
              "3031   Dive into Windows 10 - and really put your Wi...     IT  223.0  None  "
            ],
            "text/html": [
              "\n",
              "  <div id=\"df-6315a6f7-62cd-4a1e-b729-1dd6bf6c82d7\">\n",
              "    <div class=\"colab-df-container\">\n",
              "      <div>\n",
              "<style scoped>\n",
              "    .dataframe tbody tr th:only-of-type {\n",
              "        vertical-align: middle;\n",
              "    }\n",
              "\n",
              "    .dataframe tbody tr th {\n",
              "        vertical-align: top;\n",
              "    }\n",
              "\n",
              "    .dataframe thead th {\n",
              "        text-align: right;\n",
              "    }\n",
              "</style>\n",
              "<table border=\"1\" class=\"dataframe\">\n",
              "  <thead>\n",
              "    <tr style=\"text-align: right;\">\n",
              "      <th></th>\n",
              "      <th>title</th>\n",
              "      <th>description</th>\n",
              "      <th>genres</th>\n",
              "      <th>len</th>\n",
              "      <th>lang</th>\n",
              "    </tr>\n",
              "  </thead>\n",
              "  <tbody>\n",
              "    <tr>\n",
              "      <th>1121</th>\n",
              "      <td>The Immortal Rules</td>\n",
              "      <td>To survive in a ruined world, she must embrace...</td>\n",
              "      <td>Not</td>\n",
              "      <td>145.0</td>\n",
              "      <td>None</td>\n",
              "    </tr>\n",
              "    <tr>\n",
              "      <th>1752</th>\n",
              "      <td>Raintree County</td>\n",
              "      <td>Throughout a single day in 1892, John Shawness...</td>\n",
              "      <td>Not</td>\n",
              "      <td>116.0</td>\n",
              "      <td>None</td>\n",
              "    </tr>\n",
              "    <tr>\n",
              "      <th>1956</th>\n",
              "      <td>Perelandra</td>\n",
              "      <td>The second book in C. S. Lewis's acclaimed Spa...</td>\n",
              "      <td>Not</td>\n",
              "      <td>123.0</td>\n",
              "      <td>None</td>\n",
              "    </tr>\n",
              "    <tr>\n",
              "      <th>3083</th>\n",
              "      <td>Vampire Kisses</td>\n",
              "      <td>In her small town, dubbed \"Dullsville,\" sixtee...</td>\n",
              "      <td>Not</td>\n",
              "      <td>130.0</td>\n",
              "      <td>None</td>\n",
              "    </tr>\n",
              "    <tr>\n",
              "      <th>3410</th>\n",
              "      <td>The Information</td>\n",
              "      <td>Fame, envy, lust, violence, intrigues literary...</td>\n",
              "      <td>Not</td>\n",
              "      <td>103.0</td>\n",
              "      <td>None</td>\n",
              "    </tr>\n",
              "    <tr>\n",
              "      <th>3708</th>\n",
              "      <td>Trout Fishing in America</td>\n",
              "      <td>Richard Brautigan was a literary idol of the 1...</td>\n",
              "      <td>Not</td>\n",
              "      <td>99.0</td>\n",
              "      <td>None</td>\n",
              "    </tr>\n",
              "    <tr>\n",
              "      <th>4027</th>\n",
              "      <td>The Underneath</td>\n",
              "      <td>There is nothing lonelier than a cat who has b...</td>\n",
              "      <td>Not</td>\n",
              "      <td>219.0</td>\n",
              "      <td>None</td>\n",
              "    </tr>\n",
              "    <tr>\n",
              "      <th>497</th>\n",
              "      <td>Deploying SharePoint 2019</td>\n",
              "      <td>Update to a version of SharePoint that offers...</td>\n",
              "      <td>IT</td>\n",
              "      <td>202.0</td>\n",
              "      <td>None</td>\n",
              "    </tr>\n",
              "    <tr>\n",
              "      <th>2241</th>\n",
              "      <td>Big Data Architect's Handbook</td>\n",
              "      <td>The big data architects are the â€œmastersâ€...</td>\n",
              "      <td>IT</td>\n",
              "      <td>208.0</td>\n",
              "      <td>None</td>\n",
              "    </tr>\n",
              "    <tr>\n",
              "      <th>2399</th>\n",
              "      <td>Microsoft Excel 2019 Pivot Table Data Crunching</td>\n",
              "      <td>Renowned Excel experts Bill Jelen (MrExcel) a...</td>\n",
              "      <td>IT</td>\n",
              "      <td>263.0</td>\n",
              "      <td>None</td>\n",
              "    </tr>\n",
              "    <tr>\n",
              "      <th>2805</th>\n",
              "      <td>Enterprise Application Development with C# 10 ...</td>\n",
              "      <td>Building production-ready enterprise applicat...</td>\n",
              "      <td>IT</td>\n",
              "      <td>213.0</td>\n",
              "      <td>None</td>\n",
              "    </tr>\n",
              "    <tr>\n",
              "      <th>3031</th>\n",
              "      <td>Windows 10 Inside Out, 3rd Edition</td>\n",
              "      <td>Dive into Windows 10 - and really put your Wi...</td>\n",
              "      <td>IT</td>\n",
              "      <td>223.0</td>\n",
              "      <td>None</td>\n",
              "    </tr>\n",
              "  </tbody>\n",
              "</table>\n",
              "</div>\n",
              "      <button class=\"colab-df-convert\" onclick=\"convertToInteractive('df-6315a6f7-62cd-4a1e-b729-1dd6bf6c82d7')\"\n",
              "              title=\"Convert this dataframe to an interactive table.\"\n",
              "              style=\"display:none;\">\n",
              "        \n",
              "  <svg xmlns=\"http://www.w3.org/2000/svg\" height=\"24px\"viewBox=\"0 0 24 24\"\n",
              "       width=\"24px\">\n",
              "    <path d=\"M0 0h24v24H0V0z\" fill=\"none\"/>\n",
              "    <path d=\"M18.56 5.44l.94 2.06.94-2.06 2.06-.94-2.06-.94-.94-2.06-.94 2.06-2.06.94zm-11 1L8.5 8.5l.94-2.06 2.06-.94-2.06-.94L8.5 2.5l-.94 2.06-2.06.94zm10 10l.94 2.06.94-2.06 2.06-.94-2.06-.94-.94-2.06-.94 2.06-2.06.94z\"/><path d=\"M17.41 7.96l-1.37-1.37c-.4-.4-.92-.59-1.43-.59-.52 0-1.04.2-1.43.59L10.3 9.45l-7.72 7.72c-.78.78-.78 2.05 0 2.83L4 21.41c.39.39.9.59 1.41.59.51 0 1.02-.2 1.41-.59l7.78-7.78 2.81-2.81c.8-.78.8-2.07 0-2.86zM5.41 20L4 18.59l7.72-7.72 1.47 1.35L5.41 20z\"/>\n",
              "  </svg>\n",
              "      </button>\n",
              "      \n",
              "  <style>\n",
              "    .colab-df-container {\n",
              "      display:flex;\n",
              "      flex-wrap:wrap;\n",
              "      gap: 12px;\n",
              "    }\n",
              "\n",
              "    .colab-df-convert {\n",
              "      background-color: #E8F0FE;\n",
              "      border: none;\n",
              "      border-radius: 50%;\n",
              "      cursor: pointer;\n",
              "      display: none;\n",
              "      fill: #1967D2;\n",
              "      height: 32px;\n",
              "      padding: 0 0 0 0;\n",
              "      width: 32px;\n",
              "    }\n",
              "\n",
              "    .colab-df-convert:hover {\n",
              "      background-color: #E2EBFA;\n",
              "      box-shadow: 0px 1px 2px rgba(60, 64, 67, 0.3), 0px 1px 3px 1px rgba(60, 64, 67, 0.15);\n",
              "      fill: #174EA6;\n",
              "    }\n",
              "\n",
              "    [theme=dark] .colab-df-convert {\n",
              "      background-color: #3B4455;\n",
              "      fill: #D2E3FC;\n",
              "    }\n",
              "\n",
              "    [theme=dark] .colab-df-convert:hover {\n",
              "      background-color: #434B5C;\n",
              "      box-shadow: 0px 1px 3px 1px rgba(0, 0, 0, 0.15);\n",
              "      filter: drop-shadow(0px 1px 2px rgba(0, 0, 0, 0.3));\n",
              "      fill: #FFFFFF;\n",
              "    }\n",
              "  </style>\n",
              "\n",
              "      <script>\n",
              "        const buttonEl =\n",
              "          document.querySelector('#df-6315a6f7-62cd-4a1e-b729-1dd6bf6c82d7 button.colab-df-convert');\n",
              "        buttonEl.style.display =\n",
              "          google.colab.kernel.accessAllowed ? 'block' : 'none';\n",
              "\n",
              "        async function convertToInteractive(key) {\n",
              "          const element = document.querySelector('#df-6315a6f7-62cd-4a1e-b729-1dd6bf6c82d7');\n",
              "          const dataTable =\n",
              "            await google.colab.kernel.invokeFunction('convertToInteractive',\n",
              "                                                     [key], {});\n",
              "          if (!dataTable) return;\n",
              "\n",
              "          const docLinkHtml = 'Like what you see? Visit the ' +\n",
              "            '<a target=\"_blank\" href=https://colab.research.google.com/notebooks/data_table.ipynb>data table notebook</a>'\n",
              "            + ' to learn more about interactive tables.';\n",
              "          element.innerHTML = '';\n",
              "          dataTable['output_type'] = 'display_data';\n",
              "          await google.colab.output.renderOutput(dataTable, element);\n",
              "          const docLink = document.createElement('div');\n",
              "          docLink.innerHTML = docLinkHtml;\n",
              "          element.appendChild(docLink);\n",
              "        }\n",
              "      </script>\n",
              "    </div>\n",
              "  </div>\n",
              "  "
            ]
          },
          "metadata": {},
          "execution_count": 11
        }
      ],
      "source": [
        "df[df['lang'].isnull()]"
      ]
    },
    {
      "cell_type": "code",
      "execution_count": null,
      "metadata": {
        "colab": {
          "base_uri": "https://localhost:8080/"
        },
        "id": "pDGDB_oyvVJI",
        "outputId": "204b04e5-f14f-47d5-f3c5-2a92658a2b6e"
      },
      "outputs": [
        {
          "output_type": "execute_result",
          "data": {
            "text/plain": [
              "English    7367\n",
              "NaN          12\n",
              "Name: lang, dtype: int64"
            ]
          },
          "metadata": {},
          "execution_count": 12
        }
      ],
      "source": [
        "#i manually checked all these rows there are all english.\n",
        "# let's keep them\n",
        "df = df[(df['lang'] == 'English') | (df['lang'].isnull())]\n",
        "df.lang.value_counts(dropna=False)"
      ]
    },
    {
      "cell_type": "code",
      "execution_count": null,
      "metadata": {
        "id": "pxFBbVZ-7b1r"
      },
      "outputs": [],
      "source": [
        ""
      ]
    },
    {
      "cell_type": "code",
      "execution_count": null,
      "metadata": {
        "colab": {
          "base_uri": "https://localhost:8080/"
        },
        "id": "tvtNB9vRTpod",
        "outputId": "7da55344-8fc5-4948-e21d-751b9e9fedec"
      },
      "outputs": [
        {
          "output_type": "stream",
          "name": "stderr",
          "text": [
            "[nltk_data] Downloading package stopwords to /root/nltk_data...\n",
            "[nltk_data]   Unzipping corpora/stopwords.zip.\n",
            "[nltk_data] Downloading package wordnet to /root/nltk_data...\n",
            "[nltk_data]   Unzipping corpora/wordnet.zip.\n"
          ]
        },
        {
          "output_type": "execute_result",
          "data": {
            "text/plain": [
              "True"
            ]
          },
          "metadata": {},
          "execution_count": 13
        }
      ],
      "source": [
        "!pip install nltk --q\n",
        "import nltk\n",
        "nltk.download('stopwords')\n",
        "nltk.download('wordnet')"
      ]
    },
    {
      "cell_type": "code",
      "execution_count": null,
      "metadata": {
        "id": "zCNMagYDR4o7"
      },
      "outputs": [],
      "source": [
        "#clean descriptions\n",
        "import re\n",
        "from nltk.corpus import stopwords\n",
        "\n",
        "\n",
        "stop_words = set(stopwords.words('english'))\n",
        "#remove punctuation\n",
        "def remove_punctuation_digits(desc):\n",
        "  clean = re.sub('[^A-Za-z]+',' ',desc)\n",
        "  return clean\n",
        "#remove stop words\n",
        "def remove_stop_words(desc):\n",
        "  clean = ' '.join([i for i in desc.split(' ') if i not in stop_words])\n",
        "  return clean\n",
        "\n",
        "def clean_text(desc):\n",
        "  desc = remove_punctuation_digits(desc)\n",
        "  desc = desc.lower()\n",
        "  #remove newlines and whitelines\n",
        "  desc = re.sub('\\n|\\r',' ',desc)\n",
        "  return remove_stop_words(desc).strip()"
      ]
    },
    {
      "cell_type": "code",
      "execution_count": null,
      "metadata": {
        "id": "tPry3r_z0_cT"
      },
      "outputs": [],
      "source": [
        ""
      ]
    },
    {
      "cell_type": "code",
      "execution_count": null,
      "metadata": {
        "colab": {
          "base_uri": "https://localhost:8080/",
          "height": 71
        },
        "id": "DoJ82hCDtBdr",
        "outputId": "1d23c581-fa00-4419-b1f8-50cd903d66f2"
      },
      "outputs": [
        {
          "output_type": "execute_result",
          "data": {
            "text/plain": [
              "'tormented orphan clubfoot philip carey grows impressionable young man voracious appetite adventure knowledge cravings take paris age eighteen try hand art back london study medicine even nothing sate nagging hunger experience falls obsessively love embarking disastrous relationship change life forever marked countless similarities maugham life masterpiece autobiography author contended autobiographical novel fact fiction inexorably mingled emotions'"
            ],
            "application/vnd.google.colaboratory.intrinsic+json": {
              "type": "string"
            }
          },
          "metadata": {},
          "execution_count": 15
        }
      ],
      "source": [
        "#apply to dataframe\n",
        "df['description_cleaned'] = df['description'].apply(lambda x:clean_text(x))\n",
        "df['description_cleaned'].iloc[500]"
      ]
    },
    {
      "cell_type": "markdown",
      "metadata": {
        "id": "QxyuO6TsSYEP"
      },
      "source": [
        "# Load GloVe"
      ]
    },
    {
      "cell_type": "code",
      "execution_count": null,
      "metadata": {
        "colab": {
          "base_uri": "https://localhost:8080/"
        },
        "id": "9g1_VBIx9N_g",
        "outputId": "86f3558d-03f9-4857-d204-1df4398e7ba1"
      },
      "outputs": [
        {
          "output_type": "stream",
          "name": "stdout",
          "text": [
            "--2022-07-02 11:11:52--  http://nlp.stanford.edu/data/glove.6B.zip\n",
            "Resolving nlp.stanford.edu (nlp.stanford.edu)... 171.64.67.140\n",
            "Connecting to nlp.stanford.edu (nlp.stanford.edu)|171.64.67.140|:80... connected.\n",
            "HTTP request sent, awaiting response... 302 Found\n",
            "Location: https://nlp.stanford.edu/data/glove.6B.zip [following]\n",
            "--2022-07-02 11:11:52--  https://nlp.stanford.edu/data/glove.6B.zip\n",
            "Connecting to nlp.stanford.edu (nlp.stanford.edu)|171.64.67.140|:443... connected.\n",
            "HTTP request sent, awaiting response... 301 Moved Permanently\n",
            "Location: https://downloads.cs.stanford.edu/nlp/data/glove.6B.zip [following]\n",
            "--2022-07-02 11:11:52--  https://downloads.cs.stanford.edu/nlp/data/glove.6B.zip\n",
            "Resolving downloads.cs.stanford.edu (downloads.cs.stanford.edu)... 171.64.64.22\n",
            "Connecting to downloads.cs.stanford.edu (downloads.cs.stanford.edu)|171.64.64.22|:443... connected.\n",
            "HTTP request sent, awaiting response... 200 OK\n",
            "Length: 862182613 (822M) [application/zip]\n",
            "Saving to: ‘glove.6B.zip’\n",
            "\n",
            "glove.6B.zip        100%[===================>] 822.24M  5.02MB/s    in 2m 39s  \n",
            "\n",
            "2022-07-02 11:14:31 (5.18 MB/s) - ‘glove.6B.zip’ saved [862182613/862182613]\n",
            "\n",
            "Archive:  glove.6B.zip\n",
            "  inflating: glove.6B.50d.txt        \n",
            "  inflating: glove.6B.100d.txt       \n",
            "  inflating: glove.6B.200d.txt       \n",
            "  inflating: glove.6B.300d.txt       \n"
          ]
        }
      ],
      "source": [
        "!wget http://nlp.stanford.edu/data/glove.6B.zip\n",
        "!unzip glove*.zip"
      ]
    },
    {
      "cell_type": "code",
      "execution_count": null,
      "metadata": {
        "id": "0J03sB6J_Ul7"
      },
      "outputs": [],
      "source": [
        "vec = pd.read_csv('/content/glove.6B.300d.txt', sep=\" \", quoting=3, header=None, index_col=0)"
      ]
    },
    {
      "cell_type": "code",
      "execution_count": null,
      "metadata": {
        "colab": {
          "base_uri": "https://localhost:8080/",
          "height": 331
        },
        "id": "iEiO07VcAHQP",
        "outputId": "9286cf6e-9e88-4470-8d0f-c5ebb27cc04b"
      },
      "outputs": [
        {
          "output_type": "execute_result",
          "data": {
            "text/plain": [
              "          1         2         3         4         5         6         7    \\\n",
              "0                                                                           \n",
              "the  0.046560  0.213180 -0.007436 -0.458540 -0.035639  0.236430 -0.288360   \n",
              ",   -0.255390 -0.257230  0.131690 -0.042688  0.218170 -0.022702 -0.178540   \n",
              ".   -0.125590  0.013630  0.103060 -0.101230  0.098128  0.136270 -0.107210   \n",
              "of  -0.076947 -0.021211  0.212710 -0.722320 -0.139880 -0.122340 -0.175210   \n",
              "to  -0.257560 -0.057132 -0.671900 -0.380820 -0.364210 -0.082155 -0.010955   \n",
              "\n",
              "          8         9       10   ...       291       292       293       294  \\\n",
              "0                                ...                                           \n",
              "the  0.215210 -0.134860 -1.6413  ... -0.013064 -0.296860 -0.079913  0.195000   \n",
              ",    0.107560  0.058936 -1.3854  ...  0.075968 -0.014359 -0.073794  0.221760   \n",
              ".    0.236970  0.328700 -1.6785  ...  0.060148 -0.156190 -0.119490  0.234450   \n",
              "of   0.121370 -0.070866 -1.5721  ... -0.366730 -0.386030  0.302900  0.015747   \n",
              "to  -0.082047  0.460560 -1.8477  ... -0.012806 -0.597070  0.317340 -0.252670   \n",
              "\n",
              "          295       296       297       298       299       300  \n",
              "0                                                                \n",
              "the  0.031549  0.285060 -0.087461  0.009061 -0.209890  0.053913  \n",
              ",    0.146520  0.566860  0.053307 -0.232900 -0.122260  0.354990  \n",
              ".    0.081367  0.246180 -0.152420 -0.342240 -0.022394  0.136840  \n",
              "of   0.340360  0.478410  0.068617  0.183510 -0.291830 -0.046533  \n",
              "to   0.543840  0.063007 -0.049795 -0.160430  0.046744 -0.070621  \n",
              "\n",
              "[5 rows x 300 columns]"
            ],
            "text/html": [
              "\n",
              "  <div id=\"df-b2fc00c0-5af6-48a5-8e45-2dddf19056c3\">\n",
              "    <div class=\"colab-df-container\">\n",
              "      <div>\n",
              "<style scoped>\n",
              "    .dataframe tbody tr th:only-of-type {\n",
              "        vertical-align: middle;\n",
              "    }\n",
              "\n",
              "    .dataframe tbody tr th {\n",
              "        vertical-align: top;\n",
              "    }\n",
              "\n",
              "    .dataframe thead th {\n",
              "        text-align: right;\n",
              "    }\n",
              "</style>\n",
              "<table border=\"1\" class=\"dataframe\">\n",
              "  <thead>\n",
              "    <tr style=\"text-align: right;\">\n",
              "      <th></th>\n",
              "      <th>1</th>\n",
              "      <th>2</th>\n",
              "      <th>3</th>\n",
              "      <th>4</th>\n",
              "      <th>5</th>\n",
              "      <th>6</th>\n",
              "      <th>7</th>\n",
              "      <th>8</th>\n",
              "      <th>9</th>\n",
              "      <th>10</th>\n",
              "      <th>...</th>\n",
              "      <th>291</th>\n",
              "      <th>292</th>\n",
              "      <th>293</th>\n",
              "      <th>294</th>\n",
              "      <th>295</th>\n",
              "      <th>296</th>\n",
              "      <th>297</th>\n",
              "      <th>298</th>\n",
              "      <th>299</th>\n",
              "      <th>300</th>\n",
              "    </tr>\n",
              "    <tr>\n",
              "      <th>0</th>\n",
              "      <th></th>\n",
              "      <th></th>\n",
              "      <th></th>\n",
              "      <th></th>\n",
              "      <th></th>\n",
              "      <th></th>\n",
              "      <th></th>\n",
              "      <th></th>\n",
              "      <th></th>\n",
              "      <th></th>\n",
              "      <th></th>\n",
              "      <th></th>\n",
              "      <th></th>\n",
              "      <th></th>\n",
              "      <th></th>\n",
              "      <th></th>\n",
              "      <th></th>\n",
              "      <th></th>\n",
              "      <th></th>\n",
              "      <th></th>\n",
              "      <th></th>\n",
              "    </tr>\n",
              "  </thead>\n",
              "  <tbody>\n",
              "    <tr>\n",
              "      <th>the</th>\n",
              "      <td>0.046560</td>\n",
              "      <td>0.213180</td>\n",
              "      <td>-0.007436</td>\n",
              "      <td>-0.458540</td>\n",
              "      <td>-0.035639</td>\n",
              "      <td>0.236430</td>\n",
              "      <td>-0.288360</td>\n",
              "      <td>0.215210</td>\n",
              "      <td>-0.134860</td>\n",
              "      <td>-1.6413</td>\n",
              "      <td>...</td>\n",
              "      <td>-0.013064</td>\n",
              "      <td>-0.296860</td>\n",
              "      <td>-0.079913</td>\n",
              "      <td>0.195000</td>\n",
              "      <td>0.031549</td>\n",
              "      <td>0.285060</td>\n",
              "      <td>-0.087461</td>\n",
              "      <td>0.009061</td>\n",
              "      <td>-0.209890</td>\n",
              "      <td>0.053913</td>\n",
              "    </tr>\n",
              "    <tr>\n",
              "      <th>,</th>\n",
              "      <td>-0.255390</td>\n",
              "      <td>-0.257230</td>\n",
              "      <td>0.131690</td>\n",
              "      <td>-0.042688</td>\n",
              "      <td>0.218170</td>\n",
              "      <td>-0.022702</td>\n",
              "      <td>-0.178540</td>\n",
              "      <td>0.107560</td>\n",
              "      <td>0.058936</td>\n",
              "      <td>-1.3854</td>\n",
              "      <td>...</td>\n",
              "      <td>0.075968</td>\n",
              "      <td>-0.014359</td>\n",
              "      <td>-0.073794</td>\n",
              "      <td>0.221760</td>\n",
              "      <td>0.146520</td>\n",
              "      <td>0.566860</td>\n",
              "      <td>0.053307</td>\n",
              "      <td>-0.232900</td>\n",
              "      <td>-0.122260</td>\n",
              "      <td>0.354990</td>\n",
              "    </tr>\n",
              "    <tr>\n",
              "      <th>.</th>\n",
              "      <td>-0.125590</td>\n",
              "      <td>0.013630</td>\n",
              "      <td>0.103060</td>\n",
              "      <td>-0.101230</td>\n",
              "      <td>0.098128</td>\n",
              "      <td>0.136270</td>\n",
              "      <td>-0.107210</td>\n",
              "      <td>0.236970</td>\n",
              "      <td>0.328700</td>\n",
              "      <td>-1.6785</td>\n",
              "      <td>...</td>\n",
              "      <td>0.060148</td>\n",
              "      <td>-0.156190</td>\n",
              "      <td>-0.119490</td>\n",
              "      <td>0.234450</td>\n",
              "      <td>0.081367</td>\n",
              "      <td>0.246180</td>\n",
              "      <td>-0.152420</td>\n",
              "      <td>-0.342240</td>\n",
              "      <td>-0.022394</td>\n",
              "      <td>0.136840</td>\n",
              "    </tr>\n",
              "    <tr>\n",
              "      <th>of</th>\n",
              "      <td>-0.076947</td>\n",
              "      <td>-0.021211</td>\n",
              "      <td>0.212710</td>\n",
              "      <td>-0.722320</td>\n",
              "      <td>-0.139880</td>\n",
              "      <td>-0.122340</td>\n",
              "      <td>-0.175210</td>\n",
              "      <td>0.121370</td>\n",
              "      <td>-0.070866</td>\n",
              "      <td>-1.5721</td>\n",
              "      <td>...</td>\n",
              "      <td>-0.366730</td>\n",
              "      <td>-0.386030</td>\n",
              "      <td>0.302900</td>\n",
              "      <td>0.015747</td>\n",
              "      <td>0.340360</td>\n",
              "      <td>0.478410</td>\n",
              "      <td>0.068617</td>\n",
              "      <td>0.183510</td>\n",
              "      <td>-0.291830</td>\n",
              "      <td>-0.046533</td>\n",
              "    </tr>\n",
              "    <tr>\n",
              "      <th>to</th>\n",
              "      <td>-0.257560</td>\n",
              "      <td>-0.057132</td>\n",
              "      <td>-0.671900</td>\n",
              "      <td>-0.380820</td>\n",
              "      <td>-0.364210</td>\n",
              "      <td>-0.082155</td>\n",
              "      <td>-0.010955</td>\n",
              "      <td>-0.082047</td>\n",
              "      <td>0.460560</td>\n",
              "      <td>-1.8477</td>\n",
              "      <td>...</td>\n",
              "      <td>-0.012806</td>\n",
              "      <td>-0.597070</td>\n",
              "      <td>0.317340</td>\n",
              "      <td>-0.252670</td>\n",
              "      <td>0.543840</td>\n",
              "      <td>0.063007</td>\n",
              "      <td>-0.049795</td>\n",
              "      <td>-0.160430</td>\n",
              "      <td>0.046744</td>\n",
              "      <td>-0.070621</td>\n",
              "    </tr>\n",
              "  </tbody>\n",
              "</table>\n",
              "<p>5 rows × 300 columns</p>\n",
              "</div>\n",
              "      <button class=\"colab-df-convert\" onclick=\"convertToInteractive('df-b2fc00c0-5af6-48a5-8e45-2dddf19056c3')\"\n",
              "              title=\"Convert this dataframe to an interactive table.\"\n",
              "              style=\"display:none;\">\n",
              "        \n",
              "  <svg xmlns=\"http://www.w3.org/2000/svg\" height=\"24px\"viewBox=\"0 0 24 24\"\n",
              "       width=\"24px\">\n",
              "    <path d=\"M0 0h24v24H0V0z\" fill=\"none\"/>\n",
              "    <path d=\"M18.56 5.44l.94 2.06.94-2.06 2.06-.94-2.06-.94-.94-2.06-.94 2.06-2.06.94zm-11 1L8.5 8.5l.94-2.06 2.06-.94-2.06-.94L8.5 2.5l-.94 2.06-2.06.94zm10 10l.94 2.06.94-2.06 2.06-.94-2.06-.94-.94-2.06-.94 2.06-2.06.94z\"/><path d=\"M17.41 7.96l-1.37-1.37c-.4-.4-.92-.59-1.43-.59-.52 0-1.04.2-1.43.59L10.3 9.45l-7.72 7.72c-.78.78-.78 2.05 0 2.83L4 21.41c.39.39.9.59 1.41.59.51 0 1.02-.2 1.41-.59l7.78-7.78 2.81-2.81c.8-.78.8-2.07 0-2.86zM5.41 20L4 18.59l7.72-7.72 1.47 1.35L5.41 20z\"/>\n",
              "  </svg>\n",
              "      </button>\n",
              "      \n",
              "  <style>\n",
              "    .colab-df-container {\n",
              "      display:flex;\n",
              "      flex-wrap:wrap;\n",
              "      gap: 12px;\n",
              "    }\n",
              "\n",
              "    .colab-df-convert {\n",
              "      background-color: #E8F0FE;\n",
              "      border: none;\n",
              "      border-radius: 50%;\n",
              "      cursor: pointer;\n",
              "      display: none;\n",
              "      fill: #1967D2;\n",
              "      height: 32px;\n",
              "      padding: 0 0 0 0;\n",
              "      width: 32px;\n",
              "    }\n",
              "\n",
              "    .colab-df-convert:hover {\n",
              "      background-color: #E2EBFA;\n",
              "      box-shadow: 0px 1px 2px rgba(60, 64, 67, 0.3), 0px 1px 3px 1px rgba(60, 64, 67, 0.15);\n",
              "      fill: #174EA6;\n",
              "    }\n",
              "\n",
              "    [theme=dark] .colab-df-convert {\n",
              "      background-color: #3B4455;\n",
              "      fill: #D2E3FC;\n",
              "    }\n",
              "\n",
              "    [theme=dark] .colab-df-convert:hover {\n",
              "      background-color: #434B5C;\n",
              "      box-shadow: 0px 1px 3px 1px rgba(0, 0, 0, 0.15);\n",
              "      filter: drop-shadow(0px 1px 2px rgba(0, 0, 0, 0.3));\n",
              "      fill: #FFFFFF;\n",
              "    }\n",
              "  </style>\n",
              "\n",
              "      <script>\n",
              "        const buttonEl =\n",
              "          document.querySelector('#df-b2fc00c0-5af6-48a5-8e45-2dddf19056c3 button.colab-df-convert');\n",
              "        buttonEl.style.display =\n",
              "          google.colab.kernel.accessAllowed ? 'block' : 'none';\n",
              "\n",
              "        async function convertToInteractive(key) {\n",
              "          const element = document.querySelector('#df-b2fc00c0-5af6-48a5-8e45-2dddf19056c3');\n",
              "          const dataTable =\n",
              "            await google.colab.kernel.invokeFunction('convertToInteractive',\n",
              "                                                     [key], {});\n",
              "          if (!dataTable) return;\n",
              "\n",
              "          const docLinkHtml = 'Like what you see? Visit the ' +\n",
              "            '<a target=\"_blank\" href=https://colab.research.google.com/notebooks/data_table.ipynb>data table notebook</a>'\n",
              "            + ' to learn more about interactive tables.';\n",
              "          element.innerHTML = '';\n",
              "          dataTable['output_type'] = 'display_data';\n",
              "          await google.colab.output.renderOutput(dataTable, element);\n",
              "          const docLink = document.createElement('div');\n",
              "          docLink.innerHTML = docLinkHtml;\n",
              "          element.appendChild(docLink);\n",
              "        }\n",
              "      </script>\n",
              "    </div>\n",
              "  </div>\n",
              "  "
            ]
          },
          "metadata": {},
          "execution_count": 18
        }
      ],
      "source": [
        "vec.head()"
      ]
    },
    {
      "cell_type": "code",
      "execution_count": null,
      "metadata": {
        "id": "3oJdPonaA6cr"
      },
      "outputs": [],
      "source": [
        "glove = {key: val.values for key, val in vec.T.items()}"
      ]
    },
    {
      "cell_type": "markdown",
      "metadata": {
        "id": "B-p_oYnmSuTL"
      },
      "source": [
        "# Embeding Matrix"
      ]
    },
    {
      "cell_type": "code",
      "execution_count": null,
      "metadata": {
        "id": "P28xtk9Fidvd"
      },
      "outputs": [],
      "source": [
        "!pip install tensorflow -q"
      ]
    },
    {
      "cell_type": "code",
      "execution_count": null,
      "metadata": {
        "id": "IsgSmPqRA6A3"
      },
      "outputs": [],
      "source": [
        "import tensorflow as tf\n",
        "from tensorflow.keras.preprocessing.text import Tokenizer\n",
        "from tensorflow.keras.preprocessing.sequence import pad_sequences"
      ]
    },
    {
      "cell_type": "code",
      "execution_count": null,
      "metadata": {
        "id": "7Jz6cN9Phi6_"
      },
      "outputs": [],
      "source": [
        "tokenizer = Tokenizer()\n",
        "tokenizer.fit_on_texts(df['description_cleaned'])"
      ]
    },
    {
      "cell_type": "code",
      "source": [
        "word_index = tokenizer.word_index\n"
      ],
      "metadata": {
        "id": "nYwGH_zSXikL"
      },
      "execution_count": null,
      "outputs": []
    },
    {
      "cell_type": "code",
      "execution_count": null,
      "metadata": {
        "id": "RBnB3DtY1Rbi"
      },
      "outputs": [],
      "source": [
        "#count out of vocabulary words\n",
        "oov = []\n",
        "for word in word_index.keys():\n",
        "  if word not in glove.keys():\n",
        "    oov.append(word)"
      ]
    },
    {
      "cell_type": "code",
      "execution_count": null,
      "metadata": {
        "colab": {
          "base_uri": "https://localhost:8080/"
        },
        "id": "RSTAWyk89m_G",
        "outputId": "2f240f41-4c79-4d71-ae68-7d29d49f9fd8"
      },
      "outputs": [
        {
          "output_type": "execute_result",
          "data": {
            "text/plain": [
              "4044"
            ]
          },
          "metadata": {},
          "execution_count": 25
        }
      ],
      "source": [
        "len(oov)"
      ]
    },
    {
      "cell_type": "code",
      "execution_count": null,
      "metadata": {
        "colab": {
          "base_uri": "https://localhost:8080/"
        },
        "id": "mUpWMik31qO-",
        "outputId": "cb41daf0-b89d-42c6-b7fc-1ac36bb5a7f9"
      },
      "outputs": [
        {
          "output_type": "stream",
          "name": "stdout",
          "text": [
            "10 % of training data words are out of glove vocabulary\n"
          ]
        }
      ],
      "source": [
        "print(int(len(oov)/len(word_index.keys())*100),'% of training data words are out of glove vocabulary')"
      ]
    },
    {
      "cell_type": "code",
      "source": [
        "#@title stemming and lemmatization\n",
        "#lemmatization and stemming\n",
        "from nltk.stem.porter import PorterStemmer\n",
        "porter_stemmer = PorterStemmer()\n",
        "from nltk.stem import WordNetLemmatizer\n",
        "wordnet_lemmatizer = WordNetLemmatizer()\n",
        "\n",
        "for word in oov:\n",
        "  if porter_stemmer.stem(word) in glove.keys():\n",
        "    oov.remove(word)\n",
        "    continue\n",
        "  if wordnet_lemmatizer.lemmatize(word) in glove.keys():\n",
        "    oov.remove(word)\n",
        "print(int(len(oov)/len(word_index.keys())*100),'% of training data words are out of glove vocabulary')"
      ],
      "metadata": {
        "cellView": "form",
        "id": "knXGHyfZAudv"
      },
      "execution_count": null,
      "outputs": []
    },
    {
      "cell_type": "code",
      "source": [
        "#count oov occurences\n",
        "counts = {w:[0,0] for w in oov}\n",
        "desc = df['description_cleaned'].values\n",
        "for i in range(len(desc)):\n",
        "  sen = desc[i]\n",
        "  for w in sen.split(' '):\n",
        "    if w in oov:\n",
        "      counts[w][0]+=1\n",
        "      counts[w][1]+=i\n",
        "  "
      ],
      "metadata": {
        "id": "0P0sZUqZgoqX"
      },
      "execution_count": null,
      "outputs": []
    },
    {
      "cell_type": "code",
      "execution_count": null,
      "metadata": {
        "colab": {
          "base_uri": "https://localhost:8080/"
        },
        "id": "disB9JObkSrQ",
        "outputId": "85e94c02-1253-49de-ea81-49177cc10a46"
      },
      "outputs": [
        {
          "output_type": "execute_result",
          "data": {
            "text/plain": [
              "['tensorflow',\n",
              " 'microservices',\n",
              " 'kubernetes',\n",
              " 'devops',\n",
              " 'serverless',\n",
              " 'blockchain',\n",
              " 'pytorch',\n",
              " 'solr',\n",
              " 'elasticsearch',\n",
              " 'blazor',\n",
              " 'xamarin',\n",
              " 'scikit',\n",
              " 'splunk',\n",
              " 'shadowhunters',\n",
              " 'jupyter',\n",
              " 'redis',\n",
              " 'matplotlib',\n",
              " 'chatbots',\n",
              " 'hbase',\n",
              " 'microservice',\n",
              " 'couchbase',\n",
              " 'angularjs',\n",
              " 'graphql',\n",
              " 'opencv',\n",
              " 'mesos',\n",
              " 'ipython',\n",
              " 'scipy',\n",
              " 'vsphere',\n",
              " 'rabbitmq',\n",
              " 'rstudio',\n",
              " 'chatbot',\n",
              " 'pyspark',\n",
              " 'architecting',\n",
              " 'ggplot',\n",
              " 'beaglebone',\n",
              " 'hdfs',\n",
              " 'cnns',\n",
              " 'automl',\n",
              " 'exadata',\n",
              " 'ethereum',\n",
              " 'qgis',\n",
              " 'performant',\n",
              " 'rnns',\n",
              " 'gephi',\n",
              " 'openacc',\n",
              " 'shadowhunter',\n",
              " 'celaena',\n",
              " 'dsls',\n",
              " 'autoencoders',\n",
              " 'mllib',\n",
              " 'qlikview',\n",
              " 'couchdb',\n",
              " 'laravel',\n",
              " 'mvvm',\n",
              " 'feyre',\n",
              " 'pentaho',\n",
              " 'pytest',\n",
              " 'istio',\n",
              " 'vsts',\n",
              " 'lightswitch',\n",
              " 'rman',\n",
              " 'polybase',\n",
              " 'grpc',\n",
              " 'columnstore',\n",
              " 'lumion',\n",
              " 'async',\n",
              " 'vuex',\n",
              " 'innodb',\n",
              " 'bigquery',\n",
              " 'phonegap',\n",
              " 'hyperledger',\n",
              " 'openshift',\n",
              " 'accumulo',\n",
              " 'directaccess']"
            ]
          },
          "metadata": {},
          "execution_count": 27
        }
      ],
      "source": [
        "# top oov\n",
        "[key for key,value in counts.items() if value[0]>10]"
      ]
    },
    {
      "cell_type": "code",
      "execution_count": null,
      "metadata": {
        "colab": {
          "base_uri": "https://localhost:8080/"
        },
        "id": "yrSrTJ1qX03a",
        "outputId": "c1fdc301-0ccc-4163-df3a-d898a4ed5e33"
      },
      "outputs": [
        {
          "output_type": "execute_result",
          "data": {
            "text/plain": [
              "74"
            ]
          },
          "metadata": {},
          "execution_count": 28
        }
      ],
      "source": [
        "len([key for key,value in counts.items() if value[0]>10])"
      ]
    },
    {
      "cell_type": "code",
      "execution_count": null,
      "metadata": {
        "id": "UmBOrNQp8D-J"
      },
      "outputs": [],
      "source": [
        "# most of those top oov are computer science words and authors names\n",
        "# and the others aren't important because they aren't very frequent\n",
        "# so well delete them\n",
        "def delete_oov(words,row):\n",
        "  row = row.split(' ')\n",
        "  row = [w for w in row if w not in words]\n",
        "  return ' '.join(row)\n"
      ]
    },
    {
      "cell_type": "code",
      "execution_count": null,
      "metadata": {
        "id": "Rhq1HiMmKHJS"
      },
      "outputs": [],
      "source": [
        "df['description_cleaned'] = df['description_cleaned'].apply(lambda row:delete_oov(oov,row))"
      ]
    },
    {
      "cell_type": "code",
      "execution_count": null,
      "metadata": {
        "colab": {
          "base_uri": "https://localhost:8080/"
        },
        "id": "S2yYSep0MArW",
        "outputId": "f3a7b150-bac2-4b07-cdda-4fa50c70c99f"
      },
      "outputs": [
        {
          "output_type": "execute_result",
          "data": {
            "text/plain": [
              "0       winning means fame fortune losing means certai...\n",
              "1       door end silent corridor haunting harry dreams...\n",
              "2       unforgettable novel childhood sleepy southern ...\n",
              "3       alternate cover edition isbn since immediate s...\n",
              "4       three things absolutely positive first edward ...\n",
              "                              ...                        \n",
              "3406    gain solid understanding capabilities provided...\n",
              "3407    understand advanced topics app v identify rare...\n",
              "3408    without comprehensive understanding deployment...\n",
              "3409    develop powerful successful dynamics ax projec...\n",
              "3410    open data protocol web protocol querying updat...\n",
              "Name: description_cleaned, Length: 7379, dtype: object"
            ]
          },
          "metadata": {},
          "execution_count": 31
        }
      ],
      "source": [
        "df['description_cleaned']"
      ]
    },
    {
      "cell_type": "code",
      "execution_count": null,
      "metadata": {
        "id": "BpVnq78_r7xQ"
      },
      "outputs": [],
      "source": [
        "df['len'] = df['description_cleaned'].apply(lambda x:len(x.split(' ')))"
      ]
    },
    {
      "cell_type": "code",
      "execution_count": null,
      "metadata": {
        "colab": {
          "base_uri": "https://localhost:8080/",
          "height": 300
        },
        "id": "jL9eM3povCMg",
        "outputId": "211f3be8-36ca-43e8-9885-b22cf064584d"
      },
      "outputs": [
        {
          "output_type": "execute_result",
          "data": {
            "text/plain": [
              "               len\n",
              "count  7379.000000\n",
              "mean     82.952975\n",
              "std      38.987279\n",
              "min       7.000000\n",
              "25%      55.000000\n",
              "50%      76.000000\n",
              "75%     105.000000\n",
              "max     373.000000"
            ],
            "text/html": [
              "\n",
              "  <div id=\"df-1acf2abd-65e4-46b3-a7e8-9a8f197e0e44\">\n",
              "    <div class=\"colab-df-container\">\n",
              "      <div>\n",
              "<style scoped>\n",
              "    .dataframe tbody tr th:only-of-type {\n",
              "        vertical-align: middle;\n",
              "    }\n",
              "\n",
              "    .dataframe tbody tr th {\n",
              "        vertical-align: top;\n",
              "    }\n",
              "\n",
              "    .dataframe thead th {\n",
              "        text-align: right;\n",
              "    }\n",
              "</style>\n",
              "<table border=\"1\" class=\"dataframe\">\n",
              "  <thead>\n",
              "    <tr style=\"text-align: right;\">\n",
              "      <th></th>\n",
              "      <th>len</th>\n",
              "    </tr>\n",
              "  </thead>\n",
              "  <tbody>\n",
              "    <tr>\n",
              "      <th>count</th>\n",
              "      <td>7379.000000</td>\n",
              "    </tr>\n",
              "    <tr>\n",
              "      <th>mean</th>\n",
              "      <td>82.952975</td>\n",
              "    </tr>\n",
              "    <tr>\n",
              "      <th>std</th>\n",
              "      <td>38.987279</td>\n",
              "    </tr>\n",
              "    <tr>\n",
              "      <th>min</th>\n",
              "      <td>7.000000</td>\n",
              "    </tr>\n",
              "    <tr>\n",
              "      <th>25%</th>\n",
              "      <td>55.000000</td>\n",
              "    </tr>\n",
              "    <tr>\n",
              "      <th>50%</th>\n",
              "      <td>76.000000</td>\n",
              "    </tr>\n",
              "    <tr>\n",
              "      <th>75%</th>\n",
              "      <td>105.000000</td>\n",
              "    </tr>\n",
              "    <tr>\n",
              "      <th>max</th>\n",
              "      <td>373.000000</td>\n",
              "    </tr>\n",
              "  </tbody>\n",
              "</table>\n",
              "</div>\n",
              "      <button class=\"colab-df-convert\" onclick=\"convertToInteractive('df-1acf2abd-65e4-46b3-a7e8-9a8f197e0e44')\"\n",
              "              title=\"Convert this dataframe to an interactive table.\"\n",
              "              style=\"display:none;\">\n",
              "        \n",
              "  <svg xmlns=\"http://www.w3.org/2000/svg\" height=\"24px\"viewBox=\"0 0 24 24\"\n",
              "       width=\"24px\">\n",
              "    <path d=\"M0 0h24v24H0V0z\" fill=\"none\"/>\n",
              "    <path d=\"M18.56 5.44l.94 2.06.94-2.06 2.06-.94-2.06-.94-.94-2.06-.94 2.06-2.06.94zm-11 1L8.5 8.5l.94-2.06 2.06-.94-2.06-.94L8.5 2.5l-.94 2.06-2.06.94zm10 10l.94 2.06.94-2.06 2.06-.94-2.06-.94-.94-2.06-.94 2.06-2.06.94z\"/><path d=\"M17.41 7.96l-1.37-1.37c-.4-.4-.92-.59-1.43-.59-.52 0-1.04.2-1.43.59L10.3 9.45l-7.72 7.72c-.78.78-.78 2.05 0 2.83L4 21.41c.39.39.9.59 1.41.59.51 0 1.02-.2 1.41-.59l7.78-7.78 2.81-2.81c.8-.78.8-2.07 0-2.86zM5.41 20L4 18.59l7.72-7.72 1.47 1.35L5.41 20z\"/>\n",
              "  </svg>\n",
              "      </button>\n",
              "      \n",
              "  <style>\n",
              "    .colab-df-container {\n",
              "      display:flex;\n",
              "      flex-wrap:wrap;\n",
              "      gap: 12px;\n",
              "    }\n",
              "\n",
              "    .colab-df-convert {\n",
              "      background-color: #E8F0FE;\n",
              "      border: none;\n",
              "      border-radius: 50%;\n",
              "      cursor: pointer;\n",
              "      display: none;\n",
              "      fill: #1967D2;\n",
              "      height: 32px;\n",
              "      padding: 0 0 0 0;\n",
              "      width: 32px;\n",
              "    }\n",
              "\n",
              "    .colab-df-convert:hover {\n",
              "      background-color: #E2EBFA;\n",
              "      box-shadow: 0px 1px 2px rgba(60, 64, 67, 0.3), 0px 1px 3px 1px rgba(60, 64, 67, 0.15);\n",
              "      fill: #174EA6;\n",
              "    }\n",
              "\n",
              "    [theme=dark] .colab-df-convert {\n",
              "      background-color: #3B4455;\n",
              "      fill: #D2E3FC;\n",
              "    }\n",
              "\n",
              "    [theme=dark] .colab-df-convert:hover {\n",
              "      background-color: #434B5C;\n",
              "      box-shadow: 0px 1px 3px 1px rgba(0, 0, 0, 0.15);\n",
              "      filter: drop-shadow(0px 1px 2px rgba(0, 0, 0, 0.3));\n",
              "      fill: #FFFFFF;\n",
              "    }\n",
              "  </style>\n",
              "\n",
              "      <script>\n",
              "        const buttonEl =\n",
              "          document.querySelector('#df-1acf2abd-65e4-46b3-a7e8-9a8f197e0e44 button.colab-df-convert');\n",
              "        buttonEl.style.display =\n",
              "          google.colab.kernel.accessAllowed ? 'block' : 'none';\n",
              "\n",
              "        async function convertToInteractive(key) {\n",
              "          const element = document.querySelector('#df-1acf2abd-65e4-46b3-a7e8-9a8f197e0e44');\n",
              "          const dataTable =\n",
              "            await google.colab.kernel.invokeFunction('convertToInteractive',\n",
              "                                                     [key], {});\n",
              "          if (!dataTable) return;\n",
              "\n",
              "          const docLinkHtml = 'Like what you see? Visit the ' +\n",
              "            '<a target=\"_blank\" href=https://colab.research.google.com/notebooks/data_table.ipynb>data table notebook</a>'\n",
              "            + ' to learn more about interactive tables.';\n",
              "          element.innerHTML = '';\n",
              "          dataTable['output_type'] = 'display_data';\n",
              "          await google.colab.output.renderOutput(dataTable, element);\n",
              "          const docLink = document.createElement('div');\n",
              "          docLink.innerHTML = docLinkHtml;\n",
              "          element.appendChild(docLink);\n",
              "        }\n",
              "      </script>\n",
              "    </div>\n",
              "  </div>\n",
              "  "
            ]
          },
          "metadata": {},
          "execution_count": 33
        }
      ],
      "source": [
        "df.describe()"
      ]
    },
    {
      "cell_type": "code",
      "source": [
        "#description lengths\n",
        "import matplotlib.pyplot as plt\n",
        "%matplotlib inline\n",
        "\n",
        "\n",
        "fig = plt.figure(figsize = (20, 7))\n",
        "df['len'].plot.hist(bins=200)\n",
        "plt.xlim(0,700)"
      ],
      "metadata": {
        "colab": {
          "base_uri": "https://localhost:8080/",
          "height": 446
        },
        "id": "d53g-OE-Mdm9",
        "outputId": "8e4a25bd-61f4-4916-e580-438f1f8e928e"
      },
      "execution_count": null,
      "outputs": [
        {
          "output_type": "execute_result",
          "data": {
            "text/plain": [
              "(0.0, 700.0)"
            ]
          },
          "metadata": {},
          "execution_count": 34
        },
        {
          "output_type": "display_data",
          "data": {
            "text/plain": [
              "<Figure size 1440x504 with 1 Axes>"
            ],
            "image/png": "[encoded data removed]"
          },
          "metadata": {
            "needs_background": "light"
          }
        }
      ]
    },
    {
      "cell_type": "code",
      "execution_count": null,
      "metadata": {
        "id": "naBTnXjCh5-9"
      },
      "outputs": [],
      "source": [
        "tokenizer = Tokenizer()\n",
        "tokenizer.fit_on_texts(df['description_cleaned'])\n",
        "word_index = tokenizer.word_index\n",
        "sequences = tokenizer.texts_to_sequences(df['description_cleaned'])\n",
        "maxlen = 100 #longer than most of the descriptions"
      ]
    },
    {
      "cell_type": "code",
      "execution_count": null,
      "metadata": {
        "id": "bCzwO5i9jSgv"
      },
      "outputs": [],
      "source": [
        "X = pad_sequences(sequences,maxlen=maxlen,padding='post')"
      ]
    },
    {
      "cell_type": "code",
      "source": [
        ""
      ],
      "metadata": {
        "id": "4Mkabvw9Sp-y"
      },
      "execution_count": null,
      "outputs": []
    },
    {
      "cell_type": "code",
      "execution_count": null,
      "metadata": {
        "colab": {
          "base_uri": "https://localhost:8080/"
        },
        "id": "cXCInhIJxtRw",
        "outputId": "809ecd30-236f-4700-b33e-91c368e7cfdc"
      },
      "outputs": [
        {
          "output_type": "execute_result",
          "data": {
            "text/plain": [
              "array([   65,   272,   247,  1045,  2809,  8990,  2815, 20575,   490,\n",
              "          22,   627,   839,  1046, 29241,  3081,   253,    20, 17979,\n",
              "        3835,  1353,  2556,   504,   534,  1500,   457,   271,   304,\n",
              "          10,   408, 20575,  2099,     3,    46,    69,  2651,   451,\n",
              "           0,     0,     0,     0,     0,     0,     0,     0,     0,\n",
              "           0,     0,     0,     0,     0,     0,     0,     0,     0,\n",
              "           0,     0,     0,     0,     0,     0,     0,     0,     0,\n",
              "           0,     0,     0,     0,     0,     0,     0,     0,     0,\n",
              "           0,     0,     0,     0,     0,     0,     0,     0,     0,\n",
              "           0,     0,     0,     0,     0,     0,     0,     0,     0,\n",
              "           0,     0,     0,     0,     0,     0,     0,     0,     0,\n",
              "           0], dtype=int32)"
            ]
          },
          "metadata": {},
          "execution_count": 38
        }
      ],
      "source": [
        "X[3311]"
      ]
    },
    {
      "cell_type": "code",
      "execution_count": null,
      "metadata": {
        "id": "xiEDmLgdwiur"
      },
      "outputs": [],
      "source": [
        "df.reset_index(drop=True,inplace=True)"
      ]
    },
    {
      "cell_type": "code",
      "execution_count": null,
      "metadata": {
        "id": "dRq--lOLtNoA"
      },
      "outputs": [],
      "source": [
        "import numpy as np\n",
        "\n",
        "word_to_index = word_index\n",
        "word_to_vec_map = glove\n",
        "vocab_size = len(word_to_index) + 1              \n",
        "any_word = list(word_to_vec_map.keys())[0]\n",
        "emb_dim = word_to_vec_map[any_word].shape[0]    # define dimensionality of GloVe word vectors\n",
        "\n",
        "emb_matrix = np.zeros([vocab_size,emb_dim])\n",
        "\n",
        "for word, idx in word_to_index.items():\n",
        "    \n",
        "# create a weight matrix for words in training sentences\n",
        "  emb_matrix[idx, :] = word_to_vec_map[word]\n",
        "  \n",
        "  "
      ]
    },
    {
      "cell_type": "code",
      "execution_count": null,
      "metadata": {
        "colab": {
          "base_uri": "https://localhost:8080/"
        },
        "id": "Ry21L-ZW5rOq",
        "outputId": "45ab5c6f-48fc-4ca9-88f5-70e2efc93982"
      },
      "outputs": [
        {
          "output_type": "stream",
          "name": "stdout",
          "text": [
            "(33054, 300)\n"
          ]
        },
        {
          "output_type": "execute_result",
          "data": {
            "text/plain": [
              "array([0., 0., 0., 0., 0., 0., 0., 0., 0., 0., 0., 0., 0., 0., 0., 0., 0.,\n",
              "       0., 0., 0., 0., 0., 0., 0., 0., 0., 0., 0., 0., 0., 0., 0., 0., 0.,\n",
              "       0., 0., 0., 0., 0., 0., 0., 0., 0., 0., 0., 0., 0., 0., 0., 0., 0.,\n",
              "       0., 0., 0., 0., 0., 0., 0., 0., 0., 0., 0., 0., 0., 0., 0., 0., 0.,\n",
              "       0., 0., 0., 0., 0., 0., 0., 0., 0., 0., 0., 0., 0., 0., 0., 0., 0.,\n",
              "       0., 0., 0., 0., 0., 0., 0., 0., 0., 0., 0., 0., 0., 0., 0., 0., 0.,\n",
              "       0., 0., 0., 0., 0., 0., 0., 0., 0., 0., 0., 0., 0., 0., 0., 0., 0.,\n",
              "       0., 0., 0., 0., 0., 0., 0., 0., 0., 0., 0., 0., 0., 0., 0., 0., 0.,\n",
              "       0., 0., 0., 0., 0., 0., 0., 0., 0., 0., 0., 0., 0., 0., 0., 0., 0.,\n",
              "       0., 0., 0., 0., 0., 0., 0., 0., 0., 0., 0., 0., 0., 0., 0., 0., 0.,\n",
              "       0., 0., 0., 0., 0., 0., 0., 0., 0., 0., 0., 0., 0., 0., 0., 0., 0.,\n",
              "       0., 0., 0., 0., 0., 0., 0., 0., 0., 0., 0., 0., 0., 0., 0., 0., 0.,\n",
              "       0., 0., 0., 0., 0., 0., 0., 0., 0., 0., 0., 0., 0., 0., 0., 0., 0.,\n",
              "       0., 0., 0., 0., 0., 0., 0., 0., 0., 0., 0., 0., 0., 0., 0., 0., 0.,\n",
              "       0., 0., 0., 0., 0., 0., 0., 0., 0., 0., 0., 0., 0., 0., 0., 0., 0.,\n",
              "       0., 0., 0., 0., 0., 0., 0., 0., 0., 0., 0., 0., 0., 0., 0., 0., 0.,\n",
              "       0., 0., 0., 0., 0., 0., 0., 0., 0., 0., 0., 0., 0., 0., 0., 0., 0.,\n",
              "       0., 0., 0., 0., 0., 0., 0., 0., 0., 0., 0.])"
            ]
          },
          "metadata": {},
          "execution_count": 41
        }
      ],
      "source": [
        "print(emb_matrix.shape)\n",
        "emb_matrix[0]"
      ]
    },
    {
      "cell_type": "markdown",
      "metadata": {
        "id": "p9sw9kJ9SRX3"
      },
      "source": [
        "# Split Data"
      ]
    },
    {
      "cell_type": "code",
      "execution_count": null,
      "metadata": {
        "id": "HVcPy_oNDVtr"
      },
      "outputs": [],
      "source": [
        "# we can use sklearn train_test_split \n",
        "# i were trying to do a multi label classification \n",
        "# so this function is good for stratifying multi labels data\n",
        "# in case feel free to use it\n",
        "\n",
        "\n",
        "from copy import deepcopy\n",
        "import numpy as np\n",
        "\n",
        "\n",
        "\n",
        "def stratify(data, classes, ratios):\n",
        "    \"\"\"Stratifying procedure.\n",
        "\n",
        "    data is a list of lists: a list of labels, for each sample.it can be a series \n",
        "    \n",
        "    classes is the list of classes each label can take\n",
        "\n",
        "    ratios is a list, summing to 1, of how the dataset should be split\n",
        "\n",
        "    \"\"\"\n",
        "    data = [[d] for i, d in enumerate(data)]\n",
        "    # Organize data per label: for each label l, per_label_data[l] contains the list of samples\n",
        "    # in data which have this label\n",
        "    per_label_data = {c: set() for c in classes}\n",
        "    for i, d in enumerate(data):\n",
        "        for l in d:\n",
        "          per_label_data[l].add(i)\n",
        "    # number of samples\n",
        "    size = len(data)\n",
        "\n",
        "    # In order not to compute lengths each time, they are tracked here.\n",
        "    subset_sizes = [r * size for r in ratios]\n",
        "    target_subset_sizes = deepcopy(subset_sizes)\n",
        "    per_label_subset_sizes = {\n",
        "        c: [r * len(per_label_data[c]) for r in ratios]\n",
        "        for c in classes\n",
        "    }\n",
        "    # For each subset we want, the set of sample-ids which should end up in it\n",
        "    stratified_data_ids = [set() for _ in range(len(ratios))]\n",
        "\n",
        "    # For each sample in the data set\n",
        "    while size > 0:\n",
        "        # Compute |Di|\n",
        "        lengths = {\n",
        "            l: len(label_data)\n",
        "            for l, label_data in per_label_data.items()\n",
        "        }\n",
        "        try:\n",
        "            # Find label of smallest |Di|\n",
        "            label = min(\n",
        "                {k: v for k, v in lengths.items() if v > 0}, key=lengths.get\n",
        "            )\n",
        "        except ValueError:\n",
        "            # If the dictionary in `min` is empty we get a Value Error. \n",
        "            # This can happen if there are unlabeled samples.\n",
        "            # In this case, `size` would be > 0 but only samples without label would remain.\n",
        "            # \"No label\" could be a class in itself: it's up to you to format your data accordingly.\n",
        "            break\n",
        "        current_length = lengths[label]\n",
        "\n",
        "        # For each sample with label `label`\n",
        "        while per_label_data[label]:\n",
        "            # Select such a sample\n",
        "            current_id = per_label_data[label].pop()\n",
        "\n",
        "            subset_sizes_for_label = per_label_subset_sizes[label]\n",
        "            # Find argmax clj i.e. subset in greatest need of the current label\n",
        "            largest_subsets = np.argwhere(\n",
        "                subset_sizes_for_label == np.amax(subset_sizes_for_label)\n",
        "            ).flatten()\n",
        "\n",
        "            if len(largest_subsets) == 1:\n",
        "                subset = largest_subsets[0]\n",
        "            # If there is more than one such subset, find the one in greatest need\n",
        "            # of any label\n",
        "            else:\n",
        "                largest_subsets = np.argwhere(\n",
        "                    subset_sizes == np.amax(subset_sizes)\n",
        "                ).flatten()\n",
        "                if len(largest_subsets) == 1:\n",
        "                    subset = largest_subsets[0]\n",
        "                else:\n",
        "                    # If there is more than one such subset, choose at random\n",
        "                    subset = np.random.choice(largest_subsets)\n",
        "\n",
        "            # Store the sample's id in the selected subset\n",
        "            stratified_data_ids[subset].add(current_id)\n",
        "\n",
        "            # There is one fewer sample to distribute\n",
        "            size -= 1\n",
        "            # The selected subset needs one fewer sample\n",
        "            subset_sizes[subset] -= 1\n",
        "\n",
        "            # In the selected subset, there is one more example for each label\n",
        "            # the current sample has\n",
        "            for l in data[current_id]:\n",
        "                per_label_subset_sizes[l][subset] -= 1\n",
        "            \n",
        "            # Remove the sample from the dataset, meaning from all per_label dataset created\n",
        "            for l, label_data in per_label_data.items():\n",
        "                if current_id in label_data:\n",
        "                    label_data.remove(current_id)\n",
        "\n",
        "    # Create the stratified dataset as a list of subsets, each containing the orginal labels\n",
        "    stratified_data_ids = [sorted(strat) for strat in stratified_data_ids]\n",
        "    \n",
        "\n",
        "    # Return both the stratified indexes, to be used to sample the `features` associated with your labels\n",
        "    return stratified_data_ids"
      ]
    },
    {
      "cell_type": "code",
      "execution_count": null,
      "metadata": {
        "id": "s--ac7eqx7TD"
      },
      "outputs": [],
      "source": [
        "data = df['genres']\n",
        "classes = ['IT', 'Not']\n",
        "splits_indexes = stratify(data, classes, [0.7,0.3])"
      ]
    },
    {
      "cell_type": "code",
      "execution_count": null,
      "metadata": {
        "id": "DgtfDDM47GMF"
      },
      "outputs": [],
      "source": [
        "# output\n",
        "# we can also use keras to_categorical\n",
        "def Output(ser,classes):\n",
        "  rows = len(ser)\n",
        "  cols = len(classes) \n",
        "  out = np.zeros((rows,cols))\n",
        "  for i in range(rows):\n",
        "    for j in range(cols):\n",
        "      cls = classes[j]\n",
        "      if cls in ser[i]:\n",
        "        out[i,j] = 1\n",
        "  return out"
      ]
    },
    {
      "cell_type": "code",
      "execution_count": null,
      "metadata": {
        "id": "lvQzuLPvG9jJ"
      },
      "outputs": [],
      "source": [
        "y = Output(df['genres'],classes)"
      ]
    },
    {
      "cell_type": "code",
      "execution_count": null,
      "metadata": {
        "colab": {
          "base_uri": "https://localhost:8080/"
        },
        "id": "NKYPVU9nHJR8",
        "outputId": "05b2f6f9-9381-4573-cb4c-11a3552605a7"
      },
      "outputs": [
        {
          "output_type": "execute_result",
          "data": {
            "text/plain": [
              "array([0., 1.])"
            ]
          },
          "metadata": {},
          "execution_count": 48
        }
      ],
      "source": [
        "y[0]"
      ]
    },
    {
      "cell_type": "code",
      "execution_count": null,
      "metadata": {
        "id": "706GaczLHlf4"
      },
      "outputs": [],
      "source": [
        "def split_data(df,test_size,tokenizer):\n",
        "  sequences = tokenizer.texts_to_sequences(df['description_cleaned'])\n",
        "  maxlen = 100\n",
        "  X = pad_sequences(sequences,maxlen=maxlen,padding='post')\n",
        "  data = df['genres']\n",
        "  classes = ['IT', 'Not']\n",
        "  splits_indexes = stratify(data, classes, [1-test_size,test_size])\n",
        "  y = Output(df['genres'],classes)\n",
        "  x_train = X[splits_indexes[0]]\n",
        "  x_test = X[splits_indexes[1]]\n",
        "  y_train = y[splits_indexes[0]]\n",
        "  y_test = y[splits_indexes[1]]\n",
        "  return x_train,x_test,y_train,y_test"
      ]
    },
    {
      "cell_type": "code",
      "execution_count": null,
      "metadata": {
        "id": "z-9TfW3u7n0c"
      },
      "outputs": [],
      "source": [
        "#train test split\n",
        "x_train,x_test,y_train,y_test = split_data(df,0.3,tokenizer)\n"
      ]
    },
    {
      "cell_type": "code",
      "execution_count": null,
      "metadata": {
        "id": "qv0Fx-RG69c-"
      },
      "outputs": [],
      "source": [
        "\n",
        "    "
      ]
    },
    {
      "cell_type": "code",
      "execution_count": null,
      "metadata": {
        "colab": {
          "base_uri": "https://localhost:8080/"
        },
        "id": "DwosI0FhskLg",
        "outputId": "e17a61c4-bd36-46d2-bee5-3edfe3d13fe1"
      },
      "outputs": [
        {
          "output_type": "execute_result",
          "data": {
            "text/plain": [
              "(5166, 2)"
            ]
          },
          "metadata": {},
          "execution_count": 51
        }
      ],
      "source": [
        "y_train.shape"
      ]
    },
    {
      "cell_type": "markdown",
      "metadata": {
        "id": "q5GEkv-PCv_j"
      },
      "source": [
        "# Model"
      ]
    },
    {
      "cell_type": "code",
      "source": [
        "#save embedding matrix to use it in the application\n",
        "import pickle\n",
        "with open('/content/drive/My Drive/emb_matrix.pkl', 'wb') as f:\n",
        "    pickle.dump(emb_matrix,f)"
      ],
      "metadata": {
        "id": "eqxXDCvMH4E5"
      },
      "execution_count": null,
      "outputs": []
    },
    {
      "cell_type": "code",
      "execution_count": null,
      "metadata": {
        "id": "6thTG_V-g-fS"
      },
      "outputs": [],
      "source": [
        "#import necessary libraries for the model\n",
        "import numpy as np\n",
        "import tensorflow as tf\n",
        "from tensorflow.keras.models import Model,Sequential\n",
        "from tensorflow.keras.layers import Input, Dense, Embedding, Dropout, Lambda, LSTM\n",
        "from tensorflow.keras.layers import Embedding"
      ]
    },
    {
      "cell_type": "code",
      "execution_count": null,
      "metadata": {
        "id": "uqxNaMC5C7v8"
      },
      "outputs": [],
      "source": [
        "\n",
        "def Average_Model(emb_matrix,maxlen,num_classes):\n",
        "  model = Sequential()\n",
        "  model.add(Embedding(input_dim=emb_matrix.shape[0], output_dim=emb_matrix.shape[1], input_length=maxlen , weights=[emb_matrix]))\n",
        "  # Average the output of the Embedding layer over the word dimension\n",
        "  model.add(Lambda(lambda x: tf.keras.backend.mean(x, axis=1)))\n",
        "  model.add(Dense(num_classes,activation='sigmoid'))\n",
        "  model.compile(loss='categorical_crossentropy', optimizer='adam', metrics=['accuracy'])\n",
        "  return model"
      ]
    },
    {
      "cell_type": "code",
      "source": [
        "\n",
        "def LSTM_Model(emb_matrix,maxlen,num_classes):\n",
        "  model = Sequential()\n",
        "  model.add(Embedding(input_dim=emb_matrix.shape[0], output_dim=emb_matrix.shape[1], input_length=maxlen , weights=[emb_matrix]))\n",
        "  #model.add(LSTM(units=128,return_sequences = True))\n",
        "  #model.add(Dropout(0.5))\n",
        "  model.add(LSTM(units=128,return_sequences = False))\n",
        "  model.add(Dropout(0.2))\n",
        "  model.add(Dense(num_classes,activation='sigmoid'))\n",
        "  model.compile(loss='categorical_crossentropy', optimizer='adam', metrics=['accuracy'])\n",
        "  return model"
      ],
      "metadata": {
        "id": "Bj7_tYIcm2qW"
      },
      "execution_count": null,
      "outputs": []
    },
    {
      "cell_type": "code",
      "execution_count": null,
      "metadata": {
        "id": "4ou8jUboC7Y4"
      },
      "outputs": [],
      "source": [
        "model = Average_Model(emb_matrix,100,len(classes))"
      ]
    },
    {
      "cell_type": "code",
      "execution_count": null,
      "metadata": {
        "colab": {
          "base_uri": "https://localhost:8080/"
        },
        "id": "6-n8tmYsFWCX",
        "outputId": "85d809dc-9999-42be-ff6f-664787e58ab6"
      },
      "outputs": [
        {
          "output_type": "stream",
          "name": "stdout",
          "text": [
            "Epoch 1/3\n",
            "41/41 [==============================] - 6s 121ms/step - loss: 0.5386 - accuracy: 0.8134\n",
            "Epoch 2/3\n",
            "41/41 [==============================] - 5s 122ms/step - loss: 0.2498 - accuracy: 0.9737\n",
            "Epoch 3/3\n",
            "41/41 [==============================] - 5s 121ms/step - loss: 0.1225 - accuracy: 0.9940\n"
          ]
        },
        {
          "output_type": "execute_result",
          "data": {
            "text/plain": [
              "<keras.callbacks.History at 0x7fbc1f37a6d0>"
            ]
          },
          "metadata": {},
          "execution_count": 59
        }
      ],
      "source": [
        "model.fit(x_train, y_train, batch_size=128, epochs=3, verbose=1)"
      ]
    },
    {
      "cell_type": "code",
      "execution_count": null,
      "metadata": {
        "colab": {
          "base_uri": "https://localhost:8080/"
        },
        "id": "CQOeAxG1Fcby",
        "outputId": "6a0fd867-bc63-4a75-aa51-60fa1286bf1e"
      },
      "outputs": [
        {
          "output_type": "stream",
          "name": "stdout",
          "text": [
            "Test loss: 0.10854383558034897\n",
            "Test accuracy: 0.9932218790054321\n"
          ]
        }
      ],
      "source": [
        "score = model.evaluate(x_test, y_test, verbose=0) \n",
        "print('Test loss:', score[0]) \n",
        "print('Test accuracy:', score[1])"
      ]
    },
    {
      "cell_type": "code",
      "source": [
        "lstm = LSTM_Model(emb_matrix,100,len(classes))"
      ],
      "metadata": {
        "id": "fQ-S3z3mnMb0"
      },
      "execution_count": null,
      "outputs": []
    },
    {
      "cell_type": "code",
      "execution_count": null,
      "metadata": {
        "colab": {
          "base_uri": "https://localhost:8080/"
        },
        "id": "NrUD9N1ddt95",
        "outputId": "d20f532e-9ac8-42dc-f87e-2a0775afb0b8"
      },
      "outputs": [
        {
          "output_type": "stream",
          "name": "stdout",
          "text": [
            "Epoch 1/3\n",
            "41/41 [==============================] - 27s 610ms/step - loss: 0.1935 - accuracy: 0.9367\n",
            "Epoch 2/3\n",
            "41/41 [==============================] - 25s 599ms/step - loss: 0.0520 - accuracy: 0.9899\n",
            "Epoch 3/3\n",
            "41/41 [==============================] - 24s 593ms/step - loss: 0.0209 - accuracy: 0.9967\n"
          ]
        },
        {
          "output_type": "execute_result",
          "data": {
            "text/plain": [
              "<keras.callbacks.History at 0x7fbc1f43cf50>"
            ]
          },
          "metadata": {},
          "execution_count": 62
        }
      ],
      "source": [
        "lstm.fit(x_train, y_train, batch_size=128, epochs=3, verbose=1)"
      ]
    },
    {
      "cell_type": "code",
      "source": [
        "score = lstm.evaluate(x_test, y_test, verbose=0) \n",
        "print('Test loss:', score[0]) \n",
        "print('Test accuracy:', score[1])"
      ],
      "metadata": {
        "colab": {
          "base_uri": "https://localhost:8080/"
        },
        "id": "v_qnf50UnfQR",
        "outputId": "18f9a896-2a2f-4ed4-8d17-3925cc6375fa"
      },
      "execution_count": null,
      "outputs": [
        {
          "output_type": "stream",
          "name": "stdout",
          "text": [
            "Test loss: 0.03846379742026329\n",
            "Test accuracy: 0.9936737418174744\n"
          ]
        }
      ]
    },
    {
      "cell_type": "code",
      "execution_count": null,
      "metadata": {
        "id": "Wc9dy81E4_dI"
      },
      "outputs": [],
      "source": [
        "# to see the most confident model\n",
        "def good(pred):\n",
        "  \n",
        "  pred = (pred > 0.8)*1\n",
        "  return pred"
      ]
    },
    {
      "cell_type": "code",
      "execution_count": null,
      "metadata": {
        "colab": {
          "base_uri": "https://localhost:8080/"
        },
        "id": "sJeTpqvUL3GA",
        "outputId": "5371f0cb-a4c5-4ff6-9ae5-b015c5def685"
      },
      "outputs": [
        {
          "output_type": "stream",
          "name": "stdout",
          "text": [
            "[2454]\n",
            "[[0.18458986 0.808797  ]]\n",
            "[[0.08733961 0.96552753]]\n",
            "['IT', 'Not']\n",
            "[[0 1]]\n",
            "[[0 1]]\n"
          ]
        }
      ],
      "source": [
        "indx = np.random.randint(0,5000, size=1)\n",
        "input_data = x_train[indx]\n",
        "pred1 = model.predict(input_data)\n",
        "pred2 = lstm.predict(input_data)\n",
        "print(indx)\n",
        "print(pred1)\n",
        "print(pred2)\n",
        "print(classes)\n",
        "print(good(pred1))\n",
        "print(y_train[indx].astype(int))"
      ]
    },
    {
      "cell_type": "code",
      "source": [
        "# saving\n",
        "\n",
        "lstm.save('/content/drive/My Drive/classifier.h5')\n",
        "\n"
      ],
      "metadata": {
        "id": "YL_S8ccGV88U"
      },
      "execution_count": null,
      "outputs": []
    },
    {
      "cell_type": "code",
      "execution_count": null,
      "metadata": {
        "id": "ENt2j3G-jy51"
      },
      "outputs": [],
      "source": [
        "with open('/content/drive/My Drive/tokenizer.pkl', 'wb') as f:\n",
        "    pickle.dump(tokenizer, f, protocol=pickle.HIGHEST_PROTOCOL)"
      ]
    },
    {
      "cell_type": "code",
      "source": [
        ""
      ],
      "metadata": {
        "id": "jaGBqwwdsL-Q"
      },
      "execution_count": null,
      "outputs": []
    }
  ],
  "metadata": {
    "colab": {
      "collapsed_sections": [],
      "name": "Pre-processing & Model Building.ipynb",
      "provenance": [],
      "authorship_tag": "ABX9TyNp3OtyeXYo69bv91bSQWdp",
      "include_colab_link": true
    },
    "kernelspec": {
      "display_name": "Python 3",
      "name": "python3"
    },
    "language_info": {
      "name": "python"
    }
  },
  "nbformat": 4,
  "nbformat_minor": 0
}